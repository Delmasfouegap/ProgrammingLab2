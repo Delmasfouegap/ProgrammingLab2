{
 "cells": [
  {
   "cell_type": "markdown",
   "metadata": {},
   "source": [
    "\n",
    "\n",
    "## 1. La legge dei grandi numeri\n",
    "\n",
    "La legge dei grandi numeri è un teorema fondamentale della teoria della probabilità che indica che se ripetiamo molte volte (tendendo all'infinito) lo stesso esperimento, la frequenza di un certo evento tende ad essere costante.\n",
    "\n",
    "Vale a dire, **la legge dei grandi numeri indica che se lo stesso test viene eseguito ripetutamente (ad esempio, lancio di una moneta), la frequenza con cui si ripeterà un determinato evento (testa/croce) si avvicinerà a una costante. Questa a sua volta sarà la probabilità che questo evento si verifichi.**\n",
    "\n",
    "Fonte: https://it.economy-pedia.com/11038376-law-of-the-big-numbers\n",
    "\n",
    "- Scrivere una funzione che simula il lancio di una moneta per N volte e restituisce la frequenza % di volte che è uscita testa.\n",
    "- Calcolare la frequenza % con la grandezze del campione (numero di lanci) che varia 100 volte da 10 a 20000. Ottengo quindi 100 valori.\n",
    "- Fare il plot del Numero medio di teste (y) rispetto alla grandezza del campione (x)\n",
    "\n",
    "\n",
    "\n"
   ]
  },
  {
   "cell_type": "code",
   "execution_count": 31,
   "metadata": {},
   "outputs": [
    {
     "name": "stdout",
     "output_type": "stream",
     "text": [
      "la frequenza è : 20.0 %\n",
      "\n"
     ]
    }
   ],
   "source": [
    "import matplotlib.pyplot as plt\n",
    "import numpy as np\n",
    "#np.random.seed(123)\n",
    "# m= np.random.choice(['testa','croce'], size=5)\n",
    "# sum(m == 'testa') / (sum(m == 'croce') + sum(m == 'testa'))\n",
    "\n",
    "#1-\n",
    "\n",
    "def lancio_moneta(N):\n",
    "    # np.random.seed(123)\n",
    "    lancio = np.random.choice(['testa','croce'], size = N)\n",
    "    freq_part = np.sum(lancio == 'testa')\n",
    "    freq_part_2 = np.sum(lancio == 'croce')\n",
    "    freq = freq_part / (freq_part + freq_part_2)\n",
    "    return freq.item()\n",
    "\n",
    "result = lancio_moneta(5)\n",
    "print(\"la frequenza è : {} %\\n\".format(result*100))\n"
   ]
  },
  {
   "cell_type": "code",
   "execution_count": 173,
   "metadata": {},
   "outputs": [
    {
     "data": {
      "text/plain": [
       "[10,\n",
       " 211,\n",
       " 413,\n",
       " 615,\n",
       " 817,\n",
       " 1019,\n",
       " 1221,\n",
       " 1423,\n",
       " 1625,\n",
       " 1827,\n",
       " 2029,\n",
       " 2231,\n",
       " 2433,\n",
       " 2634,\n",
       " 2836,\n",
       " 3038,\n",
       " 3240,\n",
       " 3442,\n",
       " 3644,\n",
       " 3846,\n",
       " 4048,\n",
       " 4250,\n",
       " 4452,\n",
       " 4654,\n",
       " 4856,\n",
       " 5057,\n",
       " 5259,\n",
       " 5461,\n",
       " 5663,\n",
       " 5865,\n",
       " 6067,\n",
       " 6269,\n",
       " 6471,\n",
       " 6673,\n",
       " 6875,\n",
       " 7077,\n",
       " 7279,\n",
       " 7481,\n",
       " 7682,\n",
       " 7884,\n",
       " 8086,\n",
       " 8288,\n",
       " 8490,\n",
       " 8692,\n",
       " 8894,\n",
       " 9096,\n",
       " 9298,\n",
       " 9500,\n",
       " 9702,\n",
       " 9904,\n",
       " 10105,\n",
       " 10307,\n",
       " 10509,\n",
       " 10711,\n",
       " 10913,\n",
       " 11115,\n",
       " 11317,\n",
       " 11519,\n",
       " 11721,\n",
       " 11923,\n",
       " 12125,\n",
       " 12327,\n",
       " 12528,\n",
       " 12730,\n",
       " 12932,\n",
       " 13134,\n",
       " 13336,\n",
       " 13538,\n",
       " 13740,\n",
       " 13942,\n",
       " 14144,\n",
       " 14346,\n",
       " 14548,\n",
       " 14750,\n",
       " 14952,\n",
       " 15153,\n",
       " 15355,\n",
       " 15557,\n",
       " 15759,\n",
       " 15961,\n",
       " 16163,\n",
       " 16365,\n",
       " 16567,\n",
       " 16769,\n",
       " 16971,\n",
       " 17173,\n",
       " 17375,\n",
       " 17576,\n",
       " 17778,\n",
       " 17980,\n",
       " 18182,\n",
       " 18384,\n",
       " 18586,\n",
       " 18788,\n",
       " 18990,\n",
       " 19192,\n",
       " 19394,\n",
       " 19596,\n",
       " 19798,\n",
       " 20000]"
      ]
     },
     "execution_count": 173,
     "metadata": {},
     "output_type": "execute_result"
    }
   ],
   "source": [
    "\n",
    "#2-\n",
    "def lancio_moneta(N):\n",
    "    # np.random.seed(123)\n",
    "    lancio = np.random.choice(['testa','croce'], size = N)\n",
    "    freq_part = np.sum(lancio == 'testa')\n",
    "    freq_part_2 = np.sum(lancio == 'croce')\n",
    "    freq = freq_part / (freq_part + freq_part_2)\n",
    "    # return freq.item()\n",
    "    return freq_part\n",
    "\n",
    "result = lancio_moneta(5)\n",
    "list(map(int, np.linspace(0, 20000, 20)))\n",
    "X =  list(map(int, np.linspace(10, 20000, 100))) \n",
    "Y = [lancio_moneta(i) for i in X ]\n",
    "X\n",
    "\n"
   ]
  },
  {
   "cell_type": "code",
   "execution_count": 174,
   "metadata": {},
   "outputs": [
    {
     "data": {
      "text/plain": [
       "Text(0, 0.5, 'numero medie di teste')"
      ]
     },
     "execution_count": 174,
     "metadata": {},
     "output_type": "execute_result"
    },
    {
     "data": {
      "image/png": "[encoded data removed]",
      "text/plain": [
       "<Figure size 640x480 with 1 Axes>"
      ]
     },
     "metadata": {},
     "output_type": "display_data"
    }
   ],
   "source": [
    "#3-\n",
    "len(X), len(Y)\n",
    "plt.plot(X, Y)\n",
    "plt.xlabel(\"grandeza del campione\")\n",
    "plt.ylabel(\"numero medie di teste\")\n"
   ]
  },
  {
   "cell_type": "markdown",
   "metadata": {},
   "source": [
    "## 2. Analisi del Dataset Titanic\n",
    "- Quante righe e colonne ha il dataset?\n",
    "- Controlla quanti valori mancanti ci sono per colonna\n",
    "- Riempi i valori mancanti nella colonna 'Embarked' con il valore più frequente\n",
    "- Rimuovi le righe dove il valore di 'Age' è mancante\n",
    "- Controlla se ci sono righe duplicate\n",
    "- Calcola l'età media dei passeggeri per ogni classe (`Pclass`), se ci sono valori mancanti di età riempili con il valore medio\n",
    "- Visualizza la distribuzione dell'età per classe\n",
    "- Visualizza la distribuzione dell'età per classe dividendo e mmostrando insieme i dati di uomini e donne"
   ]
  },
  {
   "cell_type": "code",
   "execution_count": 43,
   "metadata": {},
   "outputs": [
    {
     "name": "stdout",
     "output_type": "stream",
     "text": [
      "il numero di righe è : 891\n",
      "\n",
      "il numero di colonne è : 12\n",
      "\n"
     ]
    }
   ],
   "source": [
    "# 📦 Caricamento del dataset\n",
    "import pandas as pd\n",
    "import matplotlib.pyplot as plt\n",
    "import seaborn as sns\n",
    "\n",
    "url = \"https://raw.githubusercontent.com/datasciencedojo/datasets/master/titanic.csv\"\n",
    "df = pd.read_csv(url)\n",
    "df.head()\n",
    "\n",
    "#1-\n",
    "num_col = df.shape[0]\n",
    "num_rig = df.shape[1]\n",
    "print(\"il numero di righe è : {}\\n\".format(num_col))\n",
    "print(\"il numero di colonne è : {}\\n\".format(num_rig))\n"
   ]
  },
  {
   "cell_type": "code",
   "execution_count": 44,
   "metadata": {},
   "outputs": [
    {
     "data": {
      "text/plain": [
       "PassengerId      0\n",
       "Survived         0\n",
       "Pclass           0\n",
       "Name             0\n",
       "Sex              0\n",
       "Age            177\n",
       "SibSp            0\n",
       "Parch            0\n",
       "Ticket           0\n",
       "Fare             0\n",
       "Cabin          687\n",
       "Embarked         2\n",
       "dtype: int64"
      ]
     },
     "execution_count": 44,
     "metadata": {},
     "output_type": "execute_result"
    }
   ],
   "source": [
    "\n",
    "#2-\n",
    "df.isna().sum()\n"
   ]
  },
  {
   "cell_type": "code",
   "execution_count": 47,
   "metadata": {},
   "outputs": [
    {
     "data": {
      "text/plain": [
       "PassengerId      0\n",
       "Survived         0\n",
       "Pclass           0\n",
       "Name             0\n",
       "Sex              0\n",
       "Age            177\n",
       "SibSp            0\n",
       "Parch            0\n",
       "Ticket           0\n",
       "Fare             0\n",
       "Cabin          687\n",
       "Embarked         0\n",
       "dtype: int64"
      ]
     },
     "execution_count": 47,
     "metadata": {},
     "output_type": "execute_result"
    }
   ],
   "source": [
    "\n",
    "#3-\n",
    "df[\"Embarked\"] = df[\"Embarked\"].fillna(df[\"Embarked\"].mode()[0])\n",
    "df.isna().sum()\n"
   ]
  },
  {
   "cell_type": "code",
   "execution_count": 48,
   "metadata": {},
   "outputs": [
    {
     "data": {
      "text/plain": [
       "PassengerId      0\n",
       "Survived         0\n",
       "Pclass           0\n",
       "Name             0\n",
       "Sex              0\n",
       "Age              0\n",
       "SibSp            0\n",
       "Parch            0\n",
       "Ticket           0\n",
       "Fare             0\n",
       "Cabin          529\n",
       "Embarked         0\n",
       "dtype: int64"
      ]
     },
     "execution_count": 48,
     "metadata": {},
     "output_type": "execute_result"
    }
   ],
   "source": [
    "\n",
    "#4-\n",
    "df = df.dropna(subset=[\"Age\"])\n",
    "df.isna().sum()\n"
   ]
  },
  {
   "cell_type": "code",
   "execution_count": 50,
   "metadata": {},
   "outputs": [
    {
     "data": {
      "text/plain": [
       "0"
      ]
     },
     "execution_count": 50,
     "metadata": {},
     "output_type": "execute_result"
    }
   ],
   "source": [
    "\n",
    "#5-\n",
    "df.duplicated().sum().item()\n"
   ]
  },
  {
   "cell_type": "code",
   "execution_count": 94,
   "metadata": {},
   "outputs": [
    {
     "data": {
      "text/plain": [
       "Pclass\n",
       "1    38.233441\n",
       "2    29.877630\n",
       "3    25.140620\n",
       "Name: Age, dtype: float64"
      ]
     },
     "execution_count": 94,
     "metadata": {},
     "output_type": "execute_result"
    }
   ],
   "source": [
    "#6-\n",
    "df.isna().sum()\n",
    "df[\"Age\"] = df[\"Age\"].fillna(df[\"Age\"].mean())\n",
    "df.columns\n",
    "df[\"Pclass\"].value_counts()\n",
    "age = df.groupby(\"Pclass\")[\"Age\"].mean()\n",
    "age\n"
   ]
  },
  {
   "cell_type": "code",
   "execution_count": 100,
   "metadata": {},
   "outputs": [
    {
     "data": {
      "image/png": "[encoded data removed]",
      "text/plain": [
       "<Figure size 640x480 with 1 Axes>"
      ]
     },
     "metadata": {},
     "output_type": "display_data"
    }
   ],
   "source": [
    "#7-\n",
    "# df.groupby(\"Pclass\")[\"Age\"].describe()\n",
    "sns.histplot(data=df, x=\"Age\", hue=\"Pclass\", multiple='stack')\n",
    "plt.title(\"distribuzione dell'età per classe\")\n",
    "plt.xlabel(\"Age\")\n",
    "plt.ylabel(\"numero di passeggeri\")\n",
    "plt.show()\n"
   ]
  },
  {
   "cell_type": "code",
   "execution_count": 129,
   "metadata": {},
   "outputs": [
    {
     "data": {
      "image/png": "[encoded data removed]",
      "text/plain": [
       "<Figure size 640x480 with 1 Axes>"
      ]
     },
     "metadata": {},
     "output_type": "display_data"
    }
   ],
   "source": [
    "\n",
    "#8-\n",
    "df.columns\n",
    "df['Sex'].value_counts()\n",
    "df.groupby(\"Pclass\")[\"Sex\"].describe()\n",
    "sns.countplot(data=df, x=\"Pclass\", hue=\"Sex\")\n",
    "plt.title(\"Numero di uomini e donne per classe\")\n",
    "plt.xlabel(\"Pclass\")\n",
    "plt.ylabel(\"Numero di passeggeri\")\n",
    "plt.show()\n"
   ]
  },
  {
   "cell_type": "markdown",
   "metadata": {},
   "source": [
    "## 3. Analisi del Dataset Iris\n",
    "\n",
    "- Esplora la distribuzione delle specie (conta quanti campioni ci sono per specie)\n",
    "- Calcola la lunghezza e la larghezza media dei petali per specie\n",
    "- Visualizza le dimensioni dei petali per specie (scatterplot)\n",
    "- Crea una nuova colonna per l'area del petalo e analizzala\n",
    "- Grafico della distribuzione dell'area del petalo per specie (boxplot)"
   ]
  },
  {
   "cell_type": "code",
   "execution_count": 130,
   "metadata": {},
   "outputs": [
    {
     "data": {
      "text/plain": [
       "species\n",
       "setosa        50\n",
       "versicolor    50\n",
       "virginica     50\n",
       "Name: count, dtype: int64"
      ]
     },
     "execution_count": 130,
     "metadata": {},
     "output_type": "execute_result"
    }
   ],
   "source": [
    "import pandas as pd\n",
    "import matplotlib.pyplot as plt\n",
    "import seaborn as sns\n",
    "\n",
    "url = \"https://raw.githubusercontent.com/mwaskom/seaborn-data/master/iris.csv\"\n",
    "df = pd.read_csv(url)\n",
    "df.head(20)\n",
    "\n",
    "#1-\n",
    "num_species = df[\"species\"].value_counts()\n",
    "num_species\n"
   ]
  },
  {
   "cell_type": "code",
   "execution_count": 140,
   "metadata": {},
   "outputs": [
    {
     "name": "stdout",
     "output_type": "stream",
     "text": [
      "Lungezze medie:\n"
     ]
    },
    {
     "data": {
      "text/plain": [
       "species\n",
       "setosa        1.462\n",
       "versicolor    4.260\n",
       "virginica     5.552\n",
       "Name: petal_length, dtype: float64"
      ]
     },
     "execution_count": 140,
     "metadata": {},
     "output_type": "execute_result"
    }
   ],
   "source": [
    "\n",
    "#2-\n",
    "df.isna().sum()\n",
    "print(\"Lungezze medie:\")\n",
    "media_length = df.groupby(\"species\")[\"petal_length\"].mean()\n",
    "media_length\n"
   ]
  },
  {
   "cell_type": "code",
   "execution_count": 138,
   "metadata": {},
   "outputs": [
    {
     "name": "stdout",
     "output_type": "stream",
     "text": [
      "Largezze medie:\n"
     ]
    },
    {
     "data": {
      "text/plain": [
       "species\n",
       "setosa        0.246\n",
       "versicolor    1.326\n",
       "virginica     2.026\n",
       "Name: petal_width, dtype: float64"
      ]
     },
     "execution_count": 138,
     "metadata": {},
     "output_type": "execute_result"
    }
   ],
   "source": [
    "print(\"Largezze medie:\")\n",
    "media_width = df.groupby(\"species\")[\"petal_width\"].mean()\n",
    "media_width\n"
   ]
  },
  {
   "cell_type": "code",
   "execution_count": 145,
   "metadata": {},
   "outputs": [
    {
     "data": {
      "image/png": "[encoded data removed]",
      "text/plain": [
       "<Figure size 640x480 with 1 Axes>"
      ]
     },
     "metadata": {},
     "output_type": "display_data"
    }
   ],
   "source": [
    "\n",
    "#3-\n",
    "#sns.scatterplot(data=df, x=\"species\", y=\"petal_width\")\n",
    "sns.scatterplot(data=df, x=\"petal_length\", y=\"petal_width\", hue=\"species\")\n",
    "plt.title(\"Petal Length vs Width selon l'espèce\")\n",
    "plt.show()\n"
   ]
  },
  {
   "cell_type": "code",
   "execution_count": 148,
   "metadata": {},
   "outputs": [
    {
     "data": {
      "text/html": [
       "<div>\n",
       "<style scoped>\n",
       "    .dataframe tbody tr th:only-of-type {\n",
       "        vertical-align: middle;\n",
       "    }\n",
       "\n",
       "    .dataframe tbody tr th {\n",
       "        vertical-align: top;\n",
       "    }\n",
       "\n",
       "    .dataframe thead th {\n",
       "        text-align: right;\n",
       "    }\n",
       "</style>\n",
       "<table border=\"1\" class=\"dataframe\">\n",
       "  <thead>\n",
       "    <tr style=\"text-align: right;\">\n",
       "      <th></th>\n",
       "      <th>sepal_length</th>\n",
       "      <th>sepal_width</th>\n",
       "      <th>petal_length</th>\n",
       "      <th>petal_width</th>\n",
       "      <th>species</th>\n",
       "      <th>area_petalo</th>\n",
       "    </tr>\n",
       "  </thead>\n",
       "  <tbody>\n",
       "    <tr>\n",
       "      <th>0</th>\n",
       "      <td>5.1</td>\n",
       "      <td>3.5</td>\n",
       "      <td>1.4</td>\n",
       "      <td>0.2</td>\n",
       "      <td>setosa</td>\n",
       "      <td>0.28</td>\n",
       "    </tr>\n",
       "    <tr>\n",
       "      <th>1</th>\n",
       "      <td>4.9</td>\n",
       "      <td>3.0</td>\n",
       "      <td>1.4</td>\n",
       "      <td>0.2</td>\n",
       "      <td>setosa</td>\n",
       "      <td>0.28</td>\n",
       "    </tr>\n",
       "    <tr>\n",
       "      <th>2</th>\n",
       "      <td>4.7</td>\n",
       "      <td>3.2</td>\n",
       "      <td>1.3</td>\n",
       "      <td>0.2</td>\n",
       "      <td>setosa</td>\n",
       "      <td>0.26</td>\n",
       "    </tr>\n",
       "    <tr>\n",
       "      <th>3</th>\n",
       "      <td>4.6</td>\n",
       "      <td>3.1</td>\n",
       "      <td>1.5</td>\n",
       "      <td>0.2</td>\n",
       "      <td>setosa</td>\n",
       "      <td>0.30</td>\n",
       "    </tr>\n",
       "    <tr>\n",
       "      <th>4</th>\n",
       "      <td>5.0</td>\n",
       "      <td>3.6</td>\n",
       "      <td>1.4</td>\n",
       "      <td>0.2</td>\n",
       "      <td>setosa</td>\n",
       "      <td>0.28</td>\n",
       "    </tr>\n",
       "  </tbody>\n",
       "</table>\n",
       "</div>"
      ],
      "text/plain": [
       "   sepal_length  sepal_width  petal_length  petal_width species  area_petalo\n",
       "0           5.1          3.5           1.4          0.2  setosa         0.28\n",
       "1           4.9          3.0           1.4          0.2  setosa         0.28\n",
       "2           4.7          3.2           1.3          0.2  setosa         0.26\n",
       "3           4.6          3.1           1.5          0.2  setosa         0.30\n",
       "4           5.0          3.6           1.4          0.2  setosa         0.28"
      ]
     },
     "execution_count": 148,
     "metadata": {},
     "output_type": "execute_result"
    }
   ],
   "source": [
    "\n",
    "#4-\n",
    "df[\"area_petalo\"] = df[\"petal_length\"] * df[\"petal_width\"]\n",
    "df.head()\n"
   ]
  },
  {
   "cell_type": "code",
   "execution_count": 151,
   "metadata": {},
   "outputs": [
    {
     "data": {
      "text/plain": [
       "<Axes: xlabel='area_petalo', ylabel='Count'>"
      ]
     },
     "execution_count": 151,
     "metadata": {},
     "output_type": "execute_result"
    },
    {
     "data": {
      "image/png": "[encoded data removed]",
      "text/plain": [
       "<Figure size 640x480 with 1 Axes>"
      ]
     },
     "metadata": {},
     "output_type": "display_data"
    }
   ],
   "source": [
    "\n",
    "sns.histplot(df[\"area_petalo\"])"
   ]
  },
  {
   "cell_type": "code",
   "execution_count": null,
   "metadata": {},
   "outputs": [
    {
     "data": {
      "text/html": [
       "<div>\n",
       "<style scoped>\n",
       "    .dataframe tbody tr th:only-of-type {\n",
       "        vertical-align: middle;\n",
       "    }\n",
       "\n",
       "    .dataframe tbody tr th {\n",
       "        vertical-align: top;\n",
       "    }\n",
       "\n",
       "    .dataframe thead th {\n",
       "        text-align: right;\n",
       "    }\n",
       "</style>\n",
       "<table border=\"1\" class=\"dataframe\">\n",
       "  <thead>\n",
       "    <tr style=\"text-align: right;\">\n",
       "      <th></th>\n",
       "      <th>count</th>\n",
       "      <th>mean</th>\n",
       "      <th>std</th>\n",
       "      <th>min</th>\n",
       "      <th>25%</th>\n",
       "      <th>50%</th>\n",
       "      <th>75%</th>\n",
       "      <th>max</th>\n",
       "    </tr>\n",
       "    <tr>\n",
       "      <th>species</th>\n",
       "      <th></th>\n",
       "      <th></th>\n",
       "      <th></th>\n",
       "      <th></th>\n",
       "      <th></th>\n",
       "      <th></th>\n",
       "      <th></th>\n",
       "      <th></th>\n",
       "    </tr>\n",
       "  </thead>\n",
       "  <tbody>\n",
       "    <tr>\n",
       "      <th>setosa</th>\n",
       "      <td>50.0</td>\n",
       "      <td>0.3656</td>\n",
       "      <td>0.181155</td>\n",
       "      <td>0.11</td>\n",
       "      <td>0.2800</td>\n",
       "      <td>0.300</td>\n",
       "      <td>0.42</td>\n",
       "      <td>0.96</td>\n",
       "    </tr>\n",
       "    <tr>\n",
       "      <th>versicolor</th>\n",
       "      <td>50.0</td>\n",
       "      <td>5.7204</td>\n",
       "      <td>1.368403</td>\n",
       "      <td>3.30</td>\n",
       "      <td>4.8600</td>\n",
       "      <td>5.615</td>\n",
       "      <td>6.75</td>\n",
       "      <td>8.64</td>\n",
       "    </tr>\n",
       "    <tr>\n",
       "      <th>virginica</th>\n",
       "      <td>50.0</td>\n",
       "      <td>11.2962</td>\n",
       "      <td>2.157412</td>\n",
       "      <td>7.50</td>\n",
       "      <td>9.7175</td>\n",
       "      <td>11.445</td>\n",
       "      <td>12.79</td>\n",
       "      <td>15.87</td>\n",
       "    </tr>\n",
       "  </tbody>\n",
       "</table>\n",
       "</div>"
      ],
      "text/plain": [
       "            count     mean       std   min     25%     50%    75%    max\n",
       "species                                                                 \n",
       "setosa       50.0   0.3656  0.181155  0.11  0.2800   0.300   0.42   0.96\n",
       "versicolor   50.0   5.7204  1.368403  3.30  4.8600   5.615   6.75   8.64\n",
       "virginica    50.0  11.2962  2.157412  7.50  9.7175  11.445  12.79  15.87"
      ]
     },
     "execution_count": 152,
     "metadata": {},
     "output_type": "execute_result"
    }
   ],
   "source": [
    "df.groupby(\"species\")[\"area_petalo\"].describe()\n"
   ]
  },
  {
   "cell_type": "code",
   "execution_count": 157,
   "metadata": {},
   "outputs": [
    {
     "data": {
      "text/plain": [
       "<Axes: ylabel='area_petalo'>"
      ]
     },
     "execution_count": 157,
     "metadata": {},
     "output_type": "execute_result"
    },
    {
     "data": {
      "image/png": "[encoded data removed]",
      "text/plain": [
       "<Figure size 640x480 with 1 Axes>"
      ]
     },
     "metadata": {},
     "output_type": "display_data"
    }
   ],
   "source": [
    "sns.boxplot(df[\"area_petalo\"])\n"
   ]
  },
  {
   "cell_type": "code",
   "execution_count": 162,
   "metadata": {},
   "outputs": [
    {
     "data": {
      "text/plain": [
       "<Axes: xlabel='species', ylabel='area_petalo'>"
      ]
     },
     "execution_count": 162,
     "metadata": {},
     "output_type": "execute_result"
    },
    {
     "data": {
      "image/png": "[encoded data removed]",
      "text/plain": [
       "<Figure size 640x480 with 1 Axes>"
      ]
     },
     "metadata": {},
     "output_type": "display_data"
    }
   ],
   "source": [
    "\n",
    "#5-\n",
    "sns.boxplot(data=df, x=\"species\", y=\"area_petalo\")\n",
    "\n",
    "\n",
    "\n"
   ]
  }
 ],
 "metadata": {
  "kernelspec": {
   "display_name": "Python 3",
   "language": "python",
   "name": "python3"
  },
  "language_info": {
   "codemirror_mode": {
    "name": "ipython",
    "version": 3
   },
   "file_extension": ".py",
   "mimetype": "text/x-python",
   "name": "python",
   "nbconvert_exporter": "python",
   "pygments_lexer": "ipython3",
   "version": "3.13.0rc2"
  }
 },
 "nbformat": 4,
 "nbformat_minor": 2
}
