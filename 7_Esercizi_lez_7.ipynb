{
 "cells": [
  {
   "cell_type": "markdown",
   "id": "25c2e0fa",
   "metadata": {},
   "source": [
    "### Es 1\n",
    "Hai a disposizione un file `data.csv` contenente dati mensili di passeggeri con due colonne:\n",
    "\n",
    "- `date`: data in formato `YYYY-MM` (mese/anno)\n",
    "- `passengers`: numero di passeggeri per quel mese\n",
    "\n",
    "\n",
    "Costruisci un modello di **regressione polinomiale** che approssima l’andamento del numero di passeggeri nel tempo.\n",
    "\n",
    "1. Carica il dataset.\n",
    "2. Convertilo in un formato numerico utilizzando una colonna `mese_numerico` che conti i mesi a partire da gennaio 1949.\n",
    "3. Applica una regressione polinomiale (grado a tua scelta).\n",
    "4. Calcola l’RMSE tra i valori reali e quelli predetti.\n",
    "5. Visualizza i dati reali e la curva stimata con Plotly."
   ]
  },
  {
   "cell_type": "code",
   "execution_count": 25,
   "id": "e05dd39e",
   "metadata": {},
   "outputs": [
    {
     "data": {
      "text/html": [
       "<div>\n",
       "<style scoped>\n",
       "    .dataframe tbody tr th:only-of-type {\n",
       "        vertical-align: middle;\n",
       "    }\n",
       "\n",
       "    .dataframe tbody tr th {\n",
       "        vertical-align: top;\n",
       "    }\n",
       "\n",
       "    .dataframe thead th {\n",
       "        text-align: right;\n",
       "    }\n",
       "</style>\n",
       "<table border=\"1\" class=\"dataframe\">\n",
       "  <thead>\n",
       "    <tr style=\"text-align: right;\">\n",
       "      <th></th>\n",
       "      <th>date</th>\n",
       "      <th>passengers</th>\n",
       "    </tr>\n",
       "  </thead>\n",
       "  <tbody>\n",
       "    <tr>\n",
       "      <th>0</th>\n",
       "      <td>1949-01</td>\n",
       "      <td>112.0</td>\n",
       "    </tr>\n",
       "    <tr>\n",
       "      <th>1</th>\n",
       "      <td>1949-02</td>\n",
       "      <td>118.0</td>\n",
       "    </tr>\n",
       "    <tr>\n",
       "      <th>2</th>\n",
       "      <td>1949-03</td>\n",
       "      <td>132.0</td>\n",
       "    </tr>\n",
       "    <tr>\n",
       "      <th>3</th>\n",
       "      <td>1949-04</td>\n",
       "      <td>129.0</td>\n",
       "    </tr>\n",
       "    <tr>\n",
       "      <th>4</th>\n",
       "      <td>1949-05</td>\n",
       "      <td>121.0</td>\n",
       "    </tr>\n",
       "  </tbody>\n",
       "</table>\n",
       "</div>"
      ],
      "text/plain": [
       "      date  passengers\n",
       "0  1949-01       112.0\n",
       "1  1949-02       118.0\n",
       "2  1949-03       132.0\n",
       "3  1949-04       129.0\n",
       "4  1949-05       121.0"
      ]
     },
     "execution_count": 25,
     "metadata": {},
     "output_type": "execute_result"
    }
   ],
   "source": [
    "import pandas as pd\n",
    "#1-\n",
    "\n",
    "df = pd.read_csv (r\"C:\\Users\\delma\\OneDrive\\Bureau\\my_project_pytho_II\\data (3).csv\")\n",
    "df.head()\n"
   ]
  },
  {
   "cell_type": "code",
   "execution_count": 26,
   "id": "c2bfe903",
   "metadata": {},
   "outputs": [
    {
     "data": {
      "text/html": [
       "<div>\n",
       "<style scoped>\n",
       "    .dataframe tbody tr th:only-of-type {\n",
       "        vertical-align: middle;\n",
       "    }\n",
       "\n",
       "    .dataframe tbody tr th {\n",
       "        vertical-align: top;\n",
       "    }\n",
       "\n",
       "    .dataframe thead th {\n",
       "        text-align: right;\n",
       "    }\n",
       "</style>\n",
       "<table border=\"1\" class=\"dataframe\">\n",
       "  <thead>\n",
       "    <tr style=\"text-align: right;\">\n",
       "      <th></th>\n",
       "      <th>date</th>\n",
       "      <th>passengers</th>\n",
       "      <th>mese_numeric</th>\n",
       "    </tr>\n",
       "  </thead>\n",
       "  <tbody>\n",
       "    <tr>\n",
       "      <th>0</th>\n",
       "      <td>1949-01-01</td>\n",
       "      <td>112.0</td>\n",
       "      <td>1</td>\n",
       "    </tr>\n",
       "    <tr>\n",
       "      <th>1</th>\n",
       "      <td>1949-02-01</td>\n",
       "      <td>118.0</td>\n",
       "      <td>2</td>\n",
       "    </tr>\n",
       "    <tr>\n",
       "      <th>2</th>\n",
       "      <td>1949-03-01</td>\n",
       "      <td>132.0</td>\n",
       "      <td>3</td>\n",
       "    </tr>\n",
       "    <tr>\n",
       "      <th>3</th>\n",
       "      <td>1949-04-01</td>\n",
       "      <td>129.0</td>\n",
       "      <td>4</td>\n",
       "    </tr>\n",
       "    <tr>\n",
       "      <th>4</th>\n",
       "      <td>1949-05-01</td>\n",
       "      <td>121.0</td>\n",
       "      <td>5</td>\n",
       "    </tr>\n",
       "    <tr>\n",
       "      <th>...</th>\n",
       "      <td>...</td>\n",
       "      <td>...</td>\n",
       "      <td>...</td>\n",
       "    </tr>\n",
       "    <tr>\n",
       "      <th>127</th>\n",
       "      <td>1960-08-01</td>\n",
       "      <td>606.0</td>\n",
       "      <td>140</td>\n",
       "    </tr>\n",
       "    <tr>\n",
       "      <th>128</th>\n",
       "      <td>1960-09-01</td>\n",
       "      <td>508.0</td>\n",
       "      <td>141</td>\n",
       "    </tr>\n",
       "    <tr>\n",
       "      <th>129</th>\n",
       "      <td>1960-10-01</td>\n",
       "      <td>461.0</td>\n",
       "      <td>142</td>\n",
       "    </tr>\n",
       "    <tr>\n",
       "      <th>130</th>\n",
       "      <td>1960-11-01</td>\n",
       "      <td>NaN</td>\n",
       "      <td>143</td>\n",
       "    </tr>\n",
       "    <tr>\n",
       "      <th>131</th>\n",
       "      <td>1960-12-01</td>\n",
       "      <td>432.0</td>\n",
       "      <td>144</td>\n",
       "    </tr>\n",
       "  </tbody>\n",
       "</table>\n",
       "<p>132 rows × 3 columns</p>\n",
       "</div>"
      ],
      "text/plain": [
       "          date  passengers  mese_numeric\n",
       "0   1949-01-01       112.0             1\n",
       "1   1949-02-01       118.0             2\n",
       "2   1949-03-01       132.0             3\n",
       "3   1949-04-01       129.0             4\n",
       "4   1949-05-01       121.0             5\n",
       "..         ...         ...           ...\n",
       "127 1960-08-01       606.0           140\n",
       "128 1960-09-01       508.0           141\n",
       "129 1960-10-01       461.0           142\n",
       "130 1960-11-01         NaN           143\n",
       "131 1960-12-01       432.0           144\n",
       "\n",
       "[132 rows x 3 columns]"
      ]
     },
     "execution_count": 26,
     "metadata": {},
     "output_type": "execute_result"
    }
   ],
   "source": [
    "#2-\n",
    "\n",
    "df[\"date\"] = pd.to_datetime(df[\"date\"], format=\"%Y-%m\")\n",
    "df[\"mese_numeric\"] = (df[\"date\"].dt.year - 1949) * 12 + df[\"date\"].dt.month\n",
    "df\n"
   ]
  },
  {
   "cell_type": "code",
   "execution_count": 27,
   "id": "a04e93dc",
   "metadata": {},
   "outputs": [
    {
     "name": "stdout",
     "output_type": "stream",
     "text": [
      "Pendenza       : 31.487\n",
      "Intercept    : -61259.213\n",
      "R²          : 0.844\n",
      "P-value     : 2.2813736130232264e-54\n",
      "Erreur std. : 1.185\n",
      "Con il nostro R^2 = 0.844 e P-value = 2.2813736130232264e-54, ppossiamo concludere che il modello spiega bene i nostri dati\n",
      "Possiamo concludere che esiste una forte relazione lineare positiva tra 'passengers' e 'date': ad ogni aumento di 'date', 'passengers' tende a aumentare fortemente.\n"
     ]
    },
    {
     "data": {
      "image/png": "[encoded data removed]",
      "text/plain": [
       "<Figure size 640x480 with 1 Axes>"
      ]
     },
     "metadata": {},
     "output_type": "display_data"
    }
   ],
   "source": [
    "#3-\n",
    "import numpy as np\n",
    "import matplotlib.pylab as plt\n",
    "import seaborn as sns\n",
    "from scipy.stats import linregress\n",
    "\n",
    "df[\"passengers\"] = df[\"passengers\"].fillna(df[\"passengers\"].mean())\n",
    "df.isna().sum()\n",
    "x = df[\"date\"].dt.year\n",
    "x.value_counts()\n",
    "y = df[\"passengers\"]\n",
    "sns.scatterplot(x=x, y=y, label = 'punti iniziali')\n",
    "coef = np.polyfit(x=x, y=y, deg=1)\n",
    "coef\n",
    "y_pred = np.polyval(coef, x)\n",
    "# y_pred\n",
    "sns.lineplot(x=x, y=y_pred, color='red', label = 'regressione lineare')\n",
    "\n",
    "mod = linregress(x=x, y=y)\n",
    "print(f\"Pendenza       : {mod.slope:.3f}\")\n",
    "print(f\"Intercept    : {mod.intercept:.3f}\")\n",
    "print(f\"R²          : {mod.rvalue**2 :.3f}\")\n",
    "print(f\"P-value     : {mod.pvalue:}\")\n",
    "print(f\"Erreur std. : {mod.stderr:.3f}\")\n",
    "print(\"Con il nostro R^2 = {} e P-value = {}, ppossiamo concludere che il modello spiega bene i nostri dati\".format(round(mod.rvalue**2,3),mod.pvalue))\n",
    "print(\"Possiamo concludere che esiste una forte relazione lineare positiva tra 'passengers' e 'date': ad ogni aumento di 'date', 'passengers' tende a aumentare fortemente.\")"
   ]
  },
  {
   "cell_type": "code",
   "execution_count": 28,
   "id": "08864f93",
   "metadata": {},
   "outputs": [
    {
     "name": "stdout",
     "output_type": "stream",
     "text": [
      "il RMSE VALE: 48.68470467903062\n"
     ]
    }
   ],
   "source": [
    "#4-\n",
    "RMSE = np.sqrt((np.sum((y - y_pred)**2)) / len(y) )\n",
    "print(\"il RMSE VALE:\",RMSE)"
   ]
  },
  {
   "cell_type": "code",
   "execution_count": 29,
   "id": "8bb40241",
   "metadata": {},
   "outputs": [
    {
     "data": {
      "application/vnd.plotly.v1+json": {
       "config": {
        "plotlyServerURL": "https://plot.ly"
       },
       "data": [
        {
         "hovertemplate": "Tipo=Datti reali<br>x=%{x}<br>y=%{y}<extra></extra>",
         "legendgroup": "Datti reali",
         "marker": {
          "color": "#636efa",
          "symbol": "circle"
         },
         "mode": "markers+lines",
         "name": "Datti reali",
         "orientation": "v",
         "showlegend": true,
         "type": "scatter",
         "x": {
          "bdata": "nQcAAJ0HAACdBwAAnQcAAJ0HAACdBwAAnQcAAJ0HAACdBwAAnQcAAJ0HAACdBwAAngcAAJ4HAACeBwAAngcAAJ4HAACeBwAAngcAAJ4HAACeBwAAngcAAJ4HAACeBwAAnwcAAJ8HAACfBwAAnwcAAJ8HAACfBwAAnwcAAJ8HAACfBwAAnwcAAJ8HAACfBwAAoAcAAKAHAACgBwAAoAcAAKAHAACgBwAAoAcAAKAHAACgBwAAoAcAAKAHAACgBwAAoQcAAKEHAAChBwAAoQcAAKEHAAChBwAAoQcAAKEHAAChBwAAoQcAAKEHAAChBwAAowcAAKMHAACjBwAAowcAAKMHAACjBwAAowcAAKMHAACjBwAAowcAAKMHAACjBwAApAcAAKQHAACkBwAApAcAAKQHAACkBwAApAcAAKQHAACkBwAApAcAAKQHAACkBwAApQcAAKUHAAClBwAApQcAAKUHAAClBwAApQcAAKUHAAClBwAApQcAAKUHAAClBwAApgcAAKYHAACmBwAApgcAAKYHAACmBwAApgcAAKYHAACmBwAApgcAAKYHAACmBwAApwcAAKcHAACnBwAApwcAAKcHAACnBwAApwcAAKcHAACnBwAApwcAAKcHAACnBwAAqAcAAKgHAACoBwAAqAcAAKgHAACoBwAAqAcAAKgHAACoBwAAqAcAAKgHAACoBwAA",
          "dtype": "i4"
         },
         "xaxis": "x",
         "y": {
          "bdata": "AAAAAAAAXEAAAAAAAIBdQAAAAAAAgGBAAAAAAAAgYEAAAAAAAEBeQAAAAAAA4GBAAAAAAACAYkAAAAAAAIBiQAAAAAAAAGFAAAAAAADAXUAAAAAAAABaQAAAAAAAgF1AAAAAAADAXEAAAAAAAIBfQAAAAAAAoGFAAAAAAADgYEAAAAAAAEBfQAAAAAAAoGJAAAAAAABAZUAAAAAAAEBlQAAAAAAAwGNAAAAAAACgYEAAAAAAAIBcQAAAAAAAgGFAAAAAAAAgYkAAAAAAAMBiQAAAAAAAQGZAAAAAAABgZEAAAAAAAIBlQAAAAAAAQGZAAAAAAADgaEAAAAAAAOBoQAAAAAAAAGdAAAAAAABAZEAAAAAAAEBiQAAAAAAAwGRAAAAAAABgZUAAAAAAAIBmQAAAAAAAIGhAAAAAAACgZkAAAAAAAOBmQAAAAAAAQGtAAAAAAADAbEAAAAAAAEBuQAAAAAAAIGpAAAAAAADgZ0AAAAAAAIBlQAAAAAAAQGhAAAAAAACAaEAAAAAAAIBoQAAAAAAAgG1AAAAAAABgbUAAAAAAAKBsQAAAAAAAYG5AAAAAAACAcEAAAAAAAABxQAAAAAAAoG1AAAAAAABgakAAAAAAAIBmQAAAAAAAIGlAAAAAAABAbkAAAAAAACBtQAAAAAAAsHBAAAAAAADQcEAAAAAAAOBwQAAAAAAAsHNAAAAAAADAdkAAAAAAALB1QAAAAAAAgHNAAAAAAAAgcUAAAAAAAKBtQAAAAAAAYHFAAAAAAADAcUAAAAAAAFBxQAAAAAAA0HNAAAAAAACQc0AAAAAAAOBzQAAAAAAAYHdAAAAAAADQeUAAAAAAAFB5QAAAAAAAMHZAAAAAAAAgc0AAAAAAAPBwQAAAAAAAIHNAAAAAAACwc0AAAAAAANByQAAAAAAAQHZAAAAAAADAdUAAAAAAADB2QAAAAAAAYHpAAAAAAAAQfUAAAAAAADB9QAAAAAAAQHlAAAAAAACwdUAAAAAAABBzQAAAAAAAAHVAAAAAAABAdUAAAAAAAOBzQAAAAAAAoHZAAAAAAADAdUAAAAAAALB2QAAAAAAAMHtAAAAAAACwfkAAAAAAAJB/QAAAAAAAQHlAAAAAAABwdkAAAAAAAGBzQAAAAAAAEHVAAAAAAACAdkAAAAAAAGB1QAAAAAAAYHlAAAAAAADAeEAAAAAAAEB6QAAAAAAAgH1AAAAAAAAggUAAAAAAAHiBQAAAAAAA8HxAAAAAAABweUAAAAAAAKB2QAAAAAAAUHlAAAAAAAAQekAAAAAAAHB4QAAAAAAAMHpAAAAAAADQfEAAAAAAAIB9QAAAAAAAuIBAAAAAAABwg0AAAAAAAPCCQAAAAAAAwH9AAAAAAADQfECTZxnRB7RxQAAAAAAAAHtA",
          "dtype": "f8"
         },
         "yaxis": "y"
        },
        {
         "hovertemplate": "Tipo=Curva stimata<br>x=%{x}<br>y=%{y}<extra></extra>",
         "legendgroup": "Curva stimata",
         "marker": {
          "color": "#EF553B",
          "symbol": "circle"
         },
         "mode": "markers+lines",
         "name": "Curva stimata",
         "orientation": "v",
         "showlegend": true,
         "type": "scatter",
         "x": {
          "bdata": "nQcAAJ0HAACdBwAAnQcAAJ0HAACdBwAAnQcAAJ0HAACdBwAAnQcAAJ0HAACdBwAAngcAAJ4HAACeBwAAngcAAJ4HAACeBwAAngcAAJ4HAACeBwAAngcAAJ4HAACeBwAAnwcAAJ8HAACfBwAAnwcAAJ8HAACfBwAAnwcAAJ8HAACfBwAAnwcAAJ8HAACfBwAAoAcAAKAHAACgBwAAoAcAAKAHAACgBwAAoAcAAKAHAACgBwAAoAcAAKAHAACgBwAAoQcAAKEHAAChBwAAoQcAAKEHAAChBwAAoQcAAKEHAAChBwAAoQcAAKEHAAChBwAAowcAAKMHAACjBwAAowcAAKMHAACjBwAAowcAAKMHAACjBwAAowcAAKMHAACjBwAApAcAAKQHAACkBwAApAcAAKQHAACkBwAApAcAAKQHAACkBwAApAcAAKQHAACkBwAApQcAAKUHAAClBwAApQcAAKUHAAClBwAApQcAAKUHAAClBwAApQcAAKUHAAClBwAApgcAAKYHAACmBwAApgcAAKYHAACmBwAApgcAAKYHAACmBwAApgcAAKYHAACmBwAApwcAAKcHAACnBwAApwcAAKcHAACnBwAApwcAAKcHAACnBwAApwcAAKcHAACnBwAAqAcAAKgHAACoBwAAqAcAAKgHAACoBwAAqAcAAKgHAACoBwAAqAcAAKgHAACoBwAA",
          "dtype": "i4"
         },
         "xaxis": "x",
         "y": {
          "bdata": "AHT5yycpW0AAdPnLJylbQAB0+csnKVtAAHT5yycpW0AAdPnLJylbQAB0+csnKVtAAHT5yycpW0AAdPnLJylbQAB0+csnKVtAAHT5yycpW0AAdPnLJylbQAB0+csnKVtAABrpHCiEYUAAGukcKIRhQAAa6RwohGFAABrpHCiEYUAAGukcKIRhQAAa6RwohGFAABrpHCiEYUAAGukcKIRhQAAa6RwohGFAABrpHCiEYUAAGukcKIRhQAAa6RwohGFAAHvVU7xzZUAAe9VTvHNlQAB71VO8c2VAAHvVU7xzZUAAe9VTvHNlQAB71VO8c2VAAHvVU7xzZUAAe9VTvHNlQAB71VO8c2VAAHvVU7xzZUAAe9VTvHNlQAB71VO8c2VAANvBilBjaUAA28GKUGNpQADbwYpQY2lAANvBilBjaUAA28GKUGNpQADbwYpQY2lAANvBilBjaUAA28GKUGNpQADbwYpQY2lAANvBilBjaUAA28GKUGNpQADbwYpQY2lAADyuweRSbUAAPK7B5FJtQAA8rsHkUm1AADyuweRSbUAAPK7B5FJtQAA8rsHkUm1AADyuweRSbUAAPK7B5FJtQAA8rsHkUm1AADyuweRSbUAAPK7B5FJtQAA8rsHkUm1AgH7DlwaZckCAfsOXBplyQIB+w5cGmXJAgH7DlwaZckCAfsOXBplyQIB+w5cGmXJAgH7DlwaZckCAfsOXBplyQIB+w5cGmXJAgH7DlwaZckCAfsOXBplyQIB+w5cGmXJAgK45s9CQdECArjmz0JB0QICuObPQkHRAgK45s9CQdECArjmz0JB0QICuObPQkHRAgK45s9CQdECArjmz0JB0QICuObPQkHRAgK45s9CQdECArjmz0JB0QICuObPQkHRAgN6vzpqIdkCA3q/Omoh2QIDer86aiHZAgN6vzpqIdkCA3q/Omoh2QIDer86aiHZAgN6vzpqIdkCA3q/Omoh2QIDer86aiHZAgN6vzpqIdkCA3q/Omoh2QIDer86aiHZAAA8m6mSAeEAADybqZIB4QAAPJupkgHhAAA8m6mSAeEAADybqZIB4QAAPJupkgHhAAA8m6mSAeEAADybqZIB4QAAPJupkgHhAAA8m6mSAeEAADybqZIB4QAAPJupkgHhAAD+cBS94ekAAP5wFL3h6QAA/nAUveHpAAD+cBS94ekAAP5wFL3h6QAA/nAUveHpAAD+cBS94ekAAP5wFL3h6QAA/nAUveHpAAD+cBS94ekAAP5wFL3h6QAA/nAUveHpAgG8SIflvfECAbxIh+W98QIBvEiH5b3xAgG8SIflvfECAbxIh+W98QIBvEiH5b3xAgG8SIflvfECAbxIh+W98QIBvEiH5b3xAgG8SIflvfECAbxIh+W98QIBvEiH5b3xA",
          "dtype": "f8"
         },
         "yaxis": "y"
        }
       ],
       "layout": {
        "legend": {
         "title": {
          "text": "Tipo"
         },
         "tracegroupgap": 0
        },
        "template": {
         "data": {
          "bar": [
           {
            "error_x": {
             "color": "#2a3f5f"
            },
            "error_y": {
             "color": "#2a3f5f"
            },
            "marker": {
             "line": {
              "color": "#E5ECF6",
              "width": 0.5
             },
             "pattern": {
              "fillmode": "overlay",
              "size": 10,
              "solidity": 0.2
             }
            },
            "type": "bar"
           }
          ],
          "barpolar": [
           {
            "marker": {
             "line": {
              "color": "#E5ECF6",
              "width": 0.5
             },
             "pattern": {
              "fillmode": "overlay",
              "size": 10,
              "solidity": 0.2
             }
            },
            "type": "barpolar"
           }
          ],
          "carpet": [
           {
            "aaxis": {
             "endlinecolor": "#2a3f5f",
             "gridcolor": "white",
             "linecolor": "white",
             "minorgridcolor": "white",
             "startlinecolor": "#2a3f5f"
            },
            "baxis": {
             "endlinecolor": "#2a3f5f",
             "gridcolor": "white",
             "linecolor": "white",
             "minorgridcolor": "white",
             "startlinecolor": "#2a3f5f"
            },
            "type": "carpet"
           }
          ],
          "choropleth": [
           {
            "colorbar": {
             "outlinewidth": 0,
             "ticks": ""
            },
            "type": "choropleth"
           }
          ],
          "contour": [
           {
            "colorbar": {
             "outlinewidth": 0,
             "ticks": ""
            },
            "colorscale": [
             [
              0,
              "#0d0887"
             ],
             [
              0.1111111111111111,
              "#46039f"
             ],
             [
              0.2222222222222222,
              "#7201a8"
             ],
             [
              0.3333333333333333,
              "#9c179e"
             ],
             [
              0.4444444444444444,
              "#bd3786"
             ],
             [
              0.5555555555555556,
              "#d8576b"
             ],
             [
              0.6666666666666666,
              "#ed7953"
             ],
             [
              0.7777777777777778,
              "#fb9f3a"
             ],
             [
              0.8888888888888888,
              "#fdca26"
             ],
             [
              1,
              "#f0f921"
             ]
            ],
            "type": "contour"
           }
          ],
          "contourcarpet": [
           {
            "colorbar": {
             "outlinewidth": 0,
             "ticks": ""
            },
            "type": "contourcarpet"
           }
          ],
          "heatmap": [
           {
            "colorbar": {
             "outlinewidth": 0,
             "ticks": ""
            },
            "colorscale": [
             [
              0,
              "#0d0887"
             ],
             [
              0.1111111111111111,
              "#46039f"
             ],
             [
              0.2222222222222222,
              "#7201a8"
             ],
             [
              0.3333333333333333,
              "#9c179e"
             ],
             [
              0.4444444444444444,
              "#bd3786"
             ],
             [
              0.5555555555555556,
              "#d8576b"
             ],
             [
              0.6666666666666666,
              "#ed7953"
             ],
             [
              0.7777777777777778,
              "#fb9f3a"
             ],
             [
              0.8888888888888888,
              "#fdca26"
             ],
             [
              1,
              "#f0f921"
             ]
            ],
            "type": "heatmap"
           }
          ],
          "histogram": [
           {
            "marker": {
             "pattern": {
              "fillmode": "overlay",
              "size": 10,
              "solidity": 0.2
             }
            },
            "type": "histogram"
           }
          ],
          "histogram2d": [
           {
            "colorbar": {
             "outlinewidth": 0,
             "ticks": ""
            },
            "colorscale": [
             [
              0,
              "#0d0887"
             ],
             [
              0.1111111111111111,
              "#46039f"
             ],
             [
              0.2222222222222222,
              "#7201a8"
             ],
             [
              0.3333333333333333,
              "#9c179e"
             ],
             [
              0.4444444444444444,
              "#bd3786"
             ],
             [
              0.5555555555555556,
              "#d8576b"
             ],
             [
              0.6666666666666666,
              "#ed7953"
             ],
             [
              0.7777777777777778,
              "#fb9f3a"
             ],
             [
              0.8888888888888888,
              "#fdca26"
             ],
             [
              1,
              "#f0f921"
             ]
            ],
            "type": "histogram2d"
           }
          ],
          "histogram2dcontour": [
           {
            "colorbar": {
             "outlinewidth": 0,
             "ticks": ""
            },
            "colorscale": [
             [
              0,
              "#0d0887"
             ],
             [
              0.1111111111111111,
              "#46039f"
             ],
             [
              0.2222222222222222,
              "#7201a8"
             ],
             [
              0.3333333333333333,
              "#9c179e"
             ],
             [
              0.4444444444444444,
              "#bd3786"
             ],
             [
              0.5555555555555556,
              "#d8576b"
             ],
             [
              0.6666666666666666,
              "#ed7953"
             ],
             [
              0.7777777777777778,
              "#fb9f3a"
             ],
             [
              0.8888888888888888,
              "#fdca26"
             ],
             [
              1,
              "#f0f921"
             ]
            ],
            "type": "histogram2dcontour"
           }
          ],
          "mesh3d": [
           {
            "colorbar": {
             "outlinewidth": 0,
             "ticks": ""
            },
            "type": "mesh3d"
           }
          ],
          "parcoords": [
           {
            "line": {
             "colorbar": {
              "outlinewidth": 0,
              "ticks": ""
             }
            },
            "type": "parcoords"
           }
          ],
          "pie": [
           {
            "automargin": true,
            "type": "pie"
           }
          ],
          "scatter": [
           {
            "fillpattern": {
             "fillmode": "overlay",
             "size": 10,
             "solidity": 0.2
            },
            "type": "scatter"
           }
          ],
          "scatter3d": [
           {
            "line": {
             "colorbar": {
              "outlinewidth": 0,
              "ticks": ""
             }
            },
            "marker": {
             "colorbar": {
              "outlinewidth": 0,
              "ticks": ""
             }
            },
            "type": "scatter3d"
           }
          ],
          "scattercarpet": [
           {
            "marker": {
             "colorbar": {
              "outlinewidth": 0,
              "ticks": ""
             }
            },
            "type": "scattercarpet"
           }
          ],
          "scattergeo": [
           {
            "marker": {
             "colorbar": {
              "outlinewidth": 0,
              "ticks": ""
             }
            },
            "type": "scattergeo"
           }
          ],
          "scattergl": [
           {
            "marker": {
             "colorbar": {
              "outlinewidth": 0,
              "ticks": ""
             }
            },
            "type": "scattergl"
           }
          ],
          "scattermap": [
           {
            "marker": {
             "colorbar": {
              "outlinewidth": 0,
              "ticks": ""
             }
            },
            "type": "scattermap"
           }
          ],
          "scattermapbox": [
           {
            "marker": {
             "colorbar": {
              "outlinewidth": 0,
              "ticks": ""
             }
            },
            "type": "scattermapbox"
           }
          ],
          "scatterpolar": [
           {
            "marker": {
             "colorbar": {
              "outlinewidth": 0,
              "ticks": ""
             }
            },
            "type": "scatterpolar"
           }
          ],
          "scatterpolargl": [
           {
            "marker": {
             "colorbar": {
              "outlinewidth": 0,
              "ticks": ""
             }
            },
            "type": "scatterpolargl"
           }
          ],
          "scatterternary": [
           {
            "marker": {
             "colorbar": {
              "outlinewidth": 0,
              "ticks": ""
             }
            },
            "type": "scatterternary"
           }
          ],
          "surface": [
           {
            "colorbar": {
             "outlinewidth": 0,
             "ticks": ""
            },
            "colorscale": [
             [
              0,
              "#0d0887"
             ],
             [
              0.1111111111111111,
              "#46039f"
             ],
             [
              0.2222222222222222,
              "#7201a8"
             ],
             [
              0.3333333333333333,
              "#9c179e"
             ],
             [
              0.4444444444444444,
              "#bd3786"
             ],
             [
              0.5555555555555556,
              "#d8576b"
             ],
             [
              0.6666666666666666,
              "#ed7953"
             ],
             [
              0.7777777777777778,
              "#fb9f3a"
             ],
             [
              0.8888888888888888,
              "#fdca26"
             ],
             [
              1,
              "#f0f921"
             ]
            ],
            "type": "surface"
           }
          ],
          "table": [
           {
            "cells": {
             "fill": {
              "color": "#EBF0F8"
             },
             "line": {
              "color": "white"
             }
            },
            "header": {
             "fill": {
              "color": "#C8D4E3"
             },
             "line": {
              "color": "white"
             }
            },
            "type": "table"
           }
          ]
         },
         "layout": {
          "annotationdefaults": {
           "arrowcolor": "#2a3f5f",
           "arrowhead": 0,
           "arrowwidth": 1
          },
          "autotypenumbers": "strict",
          "coloraxis": {
           "colorbar": {
            "outlinewidth": 0,
            "ticks": ""
           }
          },
          "colorscale": {
           "diverging": [
            [
             0,
             "#8e0152"
            ],
            [
             0.1,
             "#c51b7d"
            ],
            [
             0.2,
             "#de77ae"
            ],
            [
             0.3,
             "#f1b6da"
            ],
            [
             0.4,
             "#fde0ef"
            ],
            [
             0.5,
             "#f7f7f7"
            ],
            [
             0.6,
             "#e6f5d0"
            ],
            [
             0.7,
             "#b8e186"
            ],
            [
             0.8,
             "#7fbc41"
            ],
            [
             0.9,
             "#4d9221"
            ],
            [
             1,
             "#276419"
            ]
           ],
           "sequential": [
            [
             0,
             "#0d0887"
            ],
            [
             0.1111111111111111,
             "#46039f"
            ],
            [
             0.2222222222222222,
             "#7201a8"
            ],
            [
             0.3333333333333333,
             "#9c179e"
            ],
            [
             0.4444444444444444,
             "#bd3786"
            ],
            [
             0.5555555555555556,
             "#d8576b"
            ],
            [
             0.6666666666666666,
             "#ed7953"
            ],
            [
             0.7777777777777778,
             "#fb9f3a"
            ],
            [
             0.8888888888888888,
             "#fdca26"
            ],
            [
             1,
             "#f0f921"
            ]
           ],
           "sequentialminus": [
            [
             0,
             "#0d0887"
            ],
            [
             0.1111111111111111,
             "#46039f"
            ],
            [
             0.2222222222222222,
             "#7201a8"
            ],
            [
             0.3333333333333333,
             "#9c179e"
            ],
            [
             0.4444444444444444,
             "#bd3786"
            ],
            [
             0.5555555555555556,
             "#d8576b"
            ],
            [
             0.6666666666666666,
             "#ed7953"
            ],
            [
             0.7777777777777778,
             "#fb9f3a"
            ],
            [
             0.8888888888888888,
             "#fdca26"
            ],
            [
             1,
             "#f0f921"
            ]
           ]
          },
          "colorway": [
           "#636efa",
           "#EF553B",
           "#00cc96",
           "#ab63fa",
           "#FFA15A",
           "#19d3f3",
           "#FF6692",
           "#B6E880",
           "#FF97FF",
           "#FECB52"
          ],
          "font": {
           "color": "#2a3f5f"
          },
          "geo": {
           "bgcolor": "white",
           "lakecolor": "white",
           "landcolor": "#E5ECF6",
           "showlakes": true,
           "showland": true,
           "subunitcolor": "white"
          },
          "hoverlabel": {
           "align": "left"
          },
          "hovermode": "closest",
          "mapbox": {
           "style": "light"
          },
          "paper_bgcolor": "white",
          "plot_bgcolor": "#E5ECF6",
          "polar": {
           "angularaxis": {
            "gridcolor": "white",
            "linecolor": "white",
            "ticks": ""
           },
           "bgcolor": "#E5ECF6",
           "radialaxis": {
            "gridcolor": "white",
            "linecolor": "white",
            "ticks": ""
           }
          },
          "scene": {
           "xaxis": {
            "backgroundcolor": "#E5ECF6",
            "gridcolor": "white",
            "gridwidth": 2,
            "linecolor": "white",
            "showbackground": true,
            "ticks": "",
            "zerolinecolor": "white"
           },
           "yaxis": {
            "backgroundcolor": "#E5ECF6",
            "gridcolor": "white",
            "gridwidth": 2,
            "linecolor": "white",
            "showbackground": true,
            "ticks": "",
            "zerolinecolor": "white"
           },
           "zaxis": {
            "backgroundcolor": "#E5ECF6",
            "gridcolor": "white",
            "gridwidth": 2,
            "linecolor": "white",
            "showbackground": true,
            "ticks": "",
            "zerolinecolor": "white"
           }
          },
          "shapedefaults": {
           "line": {
            "color": "#2a3f5f"
           }
          },
          "ternary": {
           "aaxis": {
            "gridcolor": "white",
            "linecolor": "white",
            "ticks": ""
           },
           "baxis": {
            "gridcolor": "white",
            "linecolor": "white",
            "ticks": ""
           },
           "bgcolor": "#E5ECF6",
           "caxis": {
            "gridcolor": "white",
            "linecolor": "white",
            "ticks": ""
           }
          },
          "title": {
           "x": 0.05
          },
          "xaxis": {
           "automargin": true,
           "gridcolor": "white",
           "linecolor": "white",
           "ticks": "",
           "title": {
            "standoff": 15
           },
           "zerolinecolor": "white",
           "zerolinewidth": 2
          },
          "yaxis": {
           "automargin": true,
           "gridcolor": "white",
           "linecolor": "white",
           "ticks": "",
           "title": {
            "standoff": 15
           },
           "zerolinecolor": "white",
           "zerolinewidth": 2
          }
         }
        },
        "title": {
         "text": "Datti reali e Curva stimata"
        },
        "xaxis": {
         "anchor": "y",
         "domain": [
          0,
          1
         ],
         "title": {
          "text": "x"
         }
        },
        "yaxis": {
         "anchor": "x",
         "domain": [
          0,
          1
         ],
         "title": {
          "text": "y"
         }
        }
       }
      }
     },
     "metadata": {},
     "output_type": "display_data"
    }
   ],
   "source": [
    "import plotly.express as px\n",
    "\n",
    "# px.scatter(x, y)\n",
    "# px.line(x, y_pred)\n",
    "a, b = np.polyfit(x, y, 1)\n",
    "y_pred = a * x + b\n",
    "data = pd.DataFrame({\n",
    "    'x': np.concatenate([x, x]),\n",
    "    'y': np.concatenate([y, y_pred]),\n",
    "    'Tipo': ['Datti reali'] * len(x) + ['Curva stimata'] * len(x)\n",
    "})\n",
    "fig = px.scatter(data, x='x', y='y', color='Tipo', title=\"Datti reali e Curva stimata\")\n",
    "fig.update_traces(mode='markers + lines')  # Affiche les points + lignes\n",
    "fig.show()\n",
    "\n",
    "# from IPython.display import Image, display\n",
    "\n",
    "# display(Image(filename=\"C:\\\\Users\\\\delma\\\\Downloads\\\\newplot.png\"))\n"
   ]
  },
  {
   "cell_type": "markdown",
   "id": "640ee914",
   "metadata": {},
   "source": [
    "### Es2. \n",
    "Costruisci una web app con Dash che permette all’utente di scegliere il grado del polinomio per adattare un modello di regressione ai dati non lineari e vedere il risultato aggiornarsi dinamicamente.\n",
    "\n",
    "\n",
    "1. Genera 100 punti x tra -3 e 3.\n",
    "\n",
    "2. Calcola ad esempio y = x³ - x + rumore.\n",
    "\n",
    "3. Costruisci un'interfaccia Dash con:\n",
    "    - uno slider per scegliere il grado del polinomio (1–10),\n",
    "    - un grafico Plotly che mostra i dati e la curva stimata.\n",
    "\n",
    "4. Usa PolynomialFeatures + LinearRegression da scikit-learn per stimare la curva"
   ]
  },
  {
   "cell_type": "code",
   "execution_count": 30,
   "id": "5ad6e0f0",
   "metadata": {},
   "outputs": [
    {
     "data": {
      "text/plain": [
       "array([-3.        , -2.93939394, -2.87878788, -2.81818182, -2.75757576,\n",
       "       -2.6969697 , -2.63636364, -2.57575758, -2.51515152, -2.45454545,\n",
       "       -2.39393939, -2.33333333, -2.27272727, -2.21212121, -2.15151515,\n",
       "       -2.09090909, -2.03030303, -1.96969697, -1.90909091, -1.84848485,\n",
       "       -1.78787879, -1.72727273, -1.66666667, -1.60606061, -1.54545455,\n",
       "       -1.48484848, -1.42424242, -1.36363636, -1.3030303 , -1.24242424,\n",
       "       -1.18181818, -1.12121212, -1.06060606, -1.        , -0.93939394,\n",
       "       -0.87878788, -0.81818182, -0.75757576, -0.6969697 , -0.63636364,\n",
       "       -0.57575758, -0.51515152, -0.45454545, -0.39393939, -0.33333333,\n",
       "       -0.27272727, -0.21212121, -0.15151515, -0.09090909, -0.03030303,\n",
       "        0.03030303,  0.09090909,  0.15151515,  0.21212121,  0.27272727,\n",
       "        0.33333333,  0.39393939,  0.45454545,  0.51515152,  0.57575758,\n",
       "        0.63636364,  0.6969697 ,  0.75757576,  0.81818182,  0.87878788,\n",
       "        0.93939394,  1.        ,  1.06060606,  1.12121212,  1.18181818,\n",
       "        1.24242424,  1.3030303 ,  1.36363636,  1.42424242,  1.48484848,\n",
       "        1.54545455,  1.60606061,  1.66666667,  1.72727273,  1.78787879,\n",
       "        1.84848485,  1.90909091,  1.96969697,  2.03030303,  2.09090909,\n",
       "        2.15151515,  2.21212121,  2.27272727,  2.33333333,  2.39393939,\n",
       "        2.45454545,  2.51515152,  2.57575758,  2.63636364,  2.6969697 ,\n",
       "        2.75757576,  2.81818182,  2.87878788,  2.93939394,  3.        ])"
      ]
     },
     "execution_count": 30,
     "metadata": {},
     "output_type": "execute_result"
    }
   ],
   "source": [
    "#1-\n",
    "x = np.linspace(-3, 3, 100)\n",
    "x"
   ]
  },
  {
   "cell_type": "code",
   "execution_count": 31,
   "id": "ab347bd3",
   "metadata": {},
   "outputs": [
    {
     "data": {
      "text/plain": [
       "array([-2.16731317e+01, -2.15477729e+01, -2.05214816e+01, -2.10423681e+01,\n",
       "       -1.73954060e+01, -1.73963382e+01, -1.47863013e+01, -1.48389613e+01,\n",
       "       -1.35680925e+01, -1.14560698e+01, -1.12009887e+01, -9.30608738e+00,\n",
       "       -1.08282191e+01, -9.32628534e+00, -7.06675923e+00, -7.03324961e+00,\n",
       "       -6.28576625e+00, -5.08646844e+00, -6.37505309e+00, -4.18611646e+00,\n",
       "       -2.26367573e+00, -3.63294935e+00, -2.78693017e+00, -3.36893299e+00,\n",
       "       -1.27574099e+00, -3.01092072e+00,  9.29468357e-02,  3.86371274e-01,\n",
       "       -1.00518471e+00,  2.00133467e-01, -1.23846463e+00,  1.11616808e+00,\n",
       "        2.25241962e+00,  1.65604677e+00,  9.02085864e-01, -1.53690476e+00,\n",
       "        4.13555454e-01, -3.58212040e-01,  4.82029898e-01, -2.22966665e-01,\n",
       "        2.34437687e+00, -6.20458672e-01,  8.87362074e-03,  1.85751452e+00,\n",
       "       -1.53209731e-01, -1.33533552e+00,  1.36926151e+00,  7.72431341e-01,\n",
       "        1.54289483e+00,  9.51714302e-01,  2.02128245e+00,  5.14541521e-01,\n",
       "       -6.69948989e-02,  6.32793003e-01, -1.23601237e+00, -8.22021588e-01,\n",
       "       -6.54850187e-01, -4.67217151e-01,  4.57903234e-01, -1.59081653e+00,\n",
       "       -1.01437680e+00, -6.95753253e-02, -1.69823637e-01, -2.11596025e-01,\n",
       "       -1.76982180e+00,  1.17691615e+00, -7.05580744e-01, -3.72118955e-01,\n",
       "        2.08496490e-01,  9.16898147e-01, -4.69839741e-01,  2.61564075e+00,\n",
       "       -1.95550768e+00,  4.33256069e+00,  1.34051744e+00,  2.00561194e+00,\n",
       "        3.86822748e+00,  1.51256212e+00,  4.73443505e+00,  3.85365180e+00,\n",
       "        4.14482977e+00,  3.92758948e+00,  5.02631550e+00,  5.08892296e+00,\n",
       "        7.09134149e+00,  7.50110742e+00,  7.37956355e+00,  9.82021511e+00,\n",
       "        1.13119590e+01,  1.03506865e+01,  1.15014149e+01,  1.49937505e+01,\n",
       "        1.41176873e+01,  1.46780915e+01,  1.58141254e+01,  2.10507377e+01,\n",
       "        2.03085844e+01,  2.04582897e+01,  2.41910602e+01,  2.52964371e+01])"
      ]
     },
     "execution_count": 31,
     "metadata": {},
     "output_type": "execute_result"
    }
   ],
   "source": [
    "\n",
    "#2-\n",
    "rumore = np.random.normal(0,1, 100)\n",
    "y = x**3 - x + rumore\n",
    "y"
   ]
  },
  {
   "cell_type": "code",
   "execution_count": 32,
   "id": "40344825",
   "metadata": {},
   "outputs": [
    {
     "data": {
      "text/plain": [
       "array([[-3.        ],\n",
       "       [-2.93939394],\n",
       "       [-2.87878788],\n",
       "       [-2.81818182],\n",
       "       [-2.75757576],\n",
       "       [-2.6969697 ],\n",
       "       [-2.63636364],\n",
       "       [-2.57575758],\n",
       "       [-2.51515152],\n",
       "       [-2.45454545],\n",
       "       [-2.39393939],\n",
       "       [-2.33333333],\n",
       "       [-2.27272727],\n",
       "       [-2.21212121],\n",
       "       [-2.15151515],\n",
       "       [-2.09090909],\n",
       "       [-2.03030303],\n",
       "       [-1.96969697],\n",
       "       [-1.90909091],\n",
       "       [-1.84848485],\n",
       "       [-1.78787879],\n",
       "       [-1.72727273],\n",
       "       [-1.66666667],\n",
       "       [-1.60606061],\n",
       "       [-1.54545455],\n",
       "       [-1.48484848],\n",
       "       [-1.42424242],\n",
       "       [-1.36363636],\n",
       "       [-1.3030303 ],\n",
       "       [-1.24242424],\n",
       "       [-1.18181818],\n",
       "       [-1.12121212],\n",
       "       [-1.06060606],\n",
       "       [-1.        ],\n",
       "       [-0.93939394],\n",
       "       [-0.87878788],\n",
       "       [-0.81818182],\n",
       "       [-0.75757576],\n",
       "       [-0.6969697 ],\n",
       "       [-0.63636364],\n",
       "       [-0.57575758],\n",
       "       [-0.51515152],\n",
       "       [-0.45454545],\n",
       "       [-0.39393939],\n",
       "       [-0.33333333],\n",
       "       [-0.27272727],\n",
       "       [-0.21212121],\n",
       "       [-0.15151515],\n",
       "       [-0.09090909],\n",
       "       [-0.03030303],\n",
       "       [ 0.03030303],\n",
       "       [ 0.09090909],\n",
       "       [ 0.15151515],\n",
       "       [ 0.21212121],\n",
       "       [ 0.27272727],\n",
       "       [ 0.33333333],\n",
       "       [ 0.39393939],\n",
       "       [ 0.45454545],\n",
       "       [ 0.51515152],\n",
       "       [ 0.57575758],\n",
       "       [ 0.63636364],\n",
       "       [ 0.6969697 ],\n",
       "       [ 0.75757576],\n",
       "       [ 0.81818182],\n",
       "       [ 0.87878788],\n",
       "       [ 0.93939394],\n",
       "       [ 1.        ],\n",
       "       [ 1.06060606],\n",
       "       [ 1.12121212],\n",
       "       [ 1.18181818],\n",
       "       [ 1.24242424],\n",
       "       [ 1.3030303 ],\n",
       "       [ 1.36363636],\n",
       "       [ 1.42424242],\n",
       "       [ 1.48484848],\n",
       "       [ 1.54545455],\n",
       "       [ 1.60606061],\n",
       "       [ 1.66666667],\n",
       "       [ 1.72727273],\n",
       "       [ 1.78787879],\n",
       "       [ 1.84848485],\n",
       "       [ 1.90909091],\n",
       "       [ 1.96969697],\n",
       "       [ 2.03030303],\n",
       "       [ 2.09090909],\n",
       "       [ 2.15151515],\n",
       "       [ 2.21212121],\n",
       "       [ 2.27272727],\n",
       "       [ 2.33333333],\n",
       "       [ 2.39393939],\n",
       "       [ 2.45454545],\n",
       "       [ 2.51515152],\n",
       "       [ 2.57575758],\n",
       "       [ 2.63636364],\n",
       "       [ 2.6969697 ],\n",
       "       [ 2.75757576],\n",
       "       [ 2.81818182],\n",
       "       [ 2.87878788],\n",
       "       [ 2.93939394],\n",
       "       [ 3.        ]])"
      ]
     },
     "execution_count": 32,
     "metadata": {},
     "output_type": "execute_result"
    }
   ],
   "source": [
    "X=x.reshape(-1,1)\n",
    "X\n"
   ]
  },
  {
   "cell_type": "code",
   "execution_count": 33,
   "id": "4be4fc3c",
   "metadata": {},
   "outputs": [
    {
     "data": {
      "text/html": [
       "\n",
       "        <iframe\n",
       "            width=\"100%\"\n",
       "            height=\"650\"\n",
       "            src=\"http://127.0.0.1:8050/\"\n",
       "            frameborder=\"0\"\n",
       "            allowfullscreen\n",
       "            \n",
       "        ></iframe>\n",
       "        "
      ],
      "text/plain": [
       "<IPython.lib.display.IFrame at 0x23a68ba3b50>"
      ]
     },
     "metadata": {},
     "output_type": "display_data"
    }
   ],
   "source": [
    "#3-\n",
    "\n",
    "import dash\n",
    "from dash import dcc, html\n",
    "from dash.dependencies import Input, Output\n",
    "import plotly.express as px\n",
    "import plotly.graph_objects as go\n",
    "import sklearn\n",
    "from sklearn.preprocessing import PolynomialFeatures\n",
    "from sklearn.linear_model import LinearRegression\n",
    "\n",
    "app = dash.Dash(__name__)\n",
    "\n",
    "app.layout = html.Div([\n",
    "    html.H1(\"scegliere un gradro\"),\n",
    "\n",
    "    dcc.Slider(\n",
    "    id=\"numero_slider\",\n",
    "    min = 1,\n",
    "    max=10,\n",
    "    step = 1,\n",
    "    value = 2,\n",
    "    marks= {i: str(i) for i in range(1,11)}\n",
    "    ),\n",
    "\n",
    "    html.Br(),\n",
    "\n",
    "    dcc.Graph(id=\"output_grado\"),\n",
    "    \n",
    "\n",
    "])\n",
    "\n",
    "@app.callback(\n",
    "    Output(\"output_grado\", \"figure\"),\n",
    "    Input(\"numero_slider\", \"value\")\n",
    ")\n",
    "\n",
    "def cerca_grado(valore):\n",
    "            # coeffs = np.polyfit(x=x,y=y, deg= valore)\n",
    "            # y_predite = np.polyval(coeffs, x) \n",
    "\n",
    "            # fig = go.Figure()\n",
    "\n",
    "            # fig.add_trace(go.Scatter(x=x, y=y, mode = 'markers',   name='dati iniziali',  marker=dict(color='blue'))),\n",
    "            # fig.add_trace( go.Scatter(x=x, y=y_predite, mode = 'lines', line=dict(color='red', width=2)))\n",
    "            ##return fig\n",
    "\n",
    "    poly = PolynomialFeatures(degree=valore)\n",
    "    x_poly = poly.fit_transform(X)\n",
    "    model = LinearRegression()\n",
    "    model.fit(x_poly, y)\n",
    "    y_predit = model.predict(x_poly)\n",
    "\n",
    "    fig = go.Figure()\n",
    "    fig.add_trace(go.Scatter(x=x, y=y, mode = 'markers',   name='dati iniziali',  marker=dict(color='blue'))),\n",
    "    fig.add_trace(go.Scatter(x=x, y=y_predit, mode = 'lines', line=dict(color='red', width=2)))\n",
    "    return fig\n",
    "\n",
    "if __name__ == '__main__':\n",
    "    app.run(debug=True)\n"
   ]
  }
 ],
 "metadata": {
  "kernelspec": {
   "display_name": "Python 3",
   "language": "python",
   "name": "python3"
  },
  "language_info": {
   "codemirror_mode": {
    "name": "ipython",
    "version": 3
   },
   "file_extension": ".py",
   "mimetype": "text/x-python",
   "name": "python",
   "nbconvert_exporter": "python",
   "pygments_lexer": "ipython3",
   "version": "3.13.0rc2"
  }
 },
 "nbformat": 4,
 "nbformat_minor": 5
}
