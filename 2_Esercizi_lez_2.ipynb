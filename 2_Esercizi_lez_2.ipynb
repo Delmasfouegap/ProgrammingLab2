{
 "cells": [
  {
   "cell_type": "markdown",
   "metadata": {},
   "source": [
    "### **1. Indicizzazione booleana**\n",
    "\n",
    "1. Creare un nuovo vettore con tutti i numeri primi tra 0 e 20. I numeri primi compresi tra 0 e 20 sono: **2, 3, 5, 7, 11, 13, 17, 19**.\n",
    "\n",
    "2. Utilizza un test logico (ad esempio `>`, `<`, `==`, `!=`) per **selezionare tutte le voci del vettore maggiori di 10**.\n",
    "\n",
    "3. Utilizza un test logico per selezionare **tutti i numeri primi pari** dalla lista.  \n"
   ]
  },
  {
   "cell_type": "code",
   "execution_count": 2,
   "metadata": {},
   "outputs": [
    {
     "data": {
      "text/plain": [
       "array([ 2,  3,  5,  7, 11, 13, 17, 19])"
      ]
     },
     "execution_count": 2,
     "metadata": {},
     "output_type": "execute_result"
    }
   ],
   "source": [
    "import numpy as np\n",
    "\n",
    "#1-\n",
    "def is_primo(x):\n",
    "    vet = list(range(2, int(np.sqrt(x)) +1 ))\n",
    "    for i in vet:\n",
    "        if x % i == 0:\n",
    "            return 0\n",
    "    return 1\n",
    "\n",
    "vet_1 = [i for i in list(range(0,21)) if is_primo(i) and i > 1]\n",
    "vet_1 = np.array(vet_1)\n",
    "vet_1\n",
    "       "
   ]
  },
  {
   "cell_type": "code",
   "execution_count": 11,
   "metadata": {},
   "outputs": [
    {
     "data": {
      "text/plain": [
       "array([False, False, False, False,  True,  True,  True,  True])"
      ]
     },
     "execution_count": 11,
     "metadata": {},
     "output_type": "execute_result"
    }
   ],
   "source": [
    "\n",
    "#2-\n",
    "[i for i in vet_1 if i > 10]\n",
    "vet_1 > 10\n",
    "\n",
    " "
   ]
  },
  {
   "cell_type": "code",
   "execution_count": 12,
   "metadata": {},
   "outputs": [
    {
     "data": {
      "text/plain": [
       "array([ True, False, False, False, False, False, False, False])"
      ]
     },
     "execution_count": 12,
     "metadata": {},
     "output_type": "execute_result"
    }
   ],
   "source": [
    "\n",
    "#3-\n",
    "vet_1 %2 == 0 \n",
    "        "
   ]
  },
  {
   "cell_type": "markdown",
   "metadata": {},
   "source": [
    "### **2.  Operazioni su array**\n",
    "Crea un array **a**, 2D (senza digitarlo esplicitamente), e genera due nuovi array **b**, contenente la sua 2ª e 4ª riga, e **c** contenente solo la 3ª.  Dividi ogni colonna dell'array a, elemento per elemento, con l'array c."
   ]
  },
  {
   "cell_type": "code",
   "execution_count": 13,
   "metadata": {},
   "outputs": [
    {
     "data": {
      "text/plain": [
       "(array([[ 1,  2,  3,  4],\n",
       "        [ 5,  6,  7,  8],\n",
       "        [ 9, 10, 11, 12],\n",
       "        [13, 14, 15, 16]]),\n",
       " 2)"
      ]
     },
     "execution_count": 13,
     "metadata": {},
     "output_type": "execute_result"
    }
   ],
   "source": [
    "a = np.array([range(1,5), range(5,9), range(9,13), range(13,17)])\n",
    "a, a.ndim\n",
    "\n"
   ]
  },
  {
   "cell_type": "code",
   "execution_count": 15,
   "metadata": {},
   "outputs": [
    {
     "data": {
      "text/plain": [
       "array([[ 5,  6,  7,  8],\n",
       "       [13, 14, 15, 16]])"
      ]
     },
     "execution_count": 15,
     "metadata": {},
     "output_type": "execute_result"
    }
   ],
   "source": [
    "b = a[[1, 3]]\n",
    "b\n"
   ]
  },
  {
   "cell_type": "code",
   "execution_count": 17,
   "metadata": {},
   "outputs": [
    {
     "data": {
      "text/plain": [
       "array([ 9, 10, 11, 12])"
      ]
     },
     "execution_count": 17,
     "metadata": {},
     "output_type": "execute_result"
    }
   ],
   "source": [
    "\n",
    "c = a[2]\n",
    "c\n",
    "\n",
    "\n"
   ]
  },
  {
   "cell_type": "code",
   "execution_count": 18,
   "metadata": {},
   "outputs": [
    {
     "data": {
      "text/plain": [
       "array([[0.11111111, 0.2       , 0.27272727, 0.33333333],\n",
       "       [0.55555556, 0.6       , 0.63636364, 0.66666667],\n",
       "       [1.        , 1.        , 1.        , 1.        ],\n",
       "       [1.44444444, 1.4       , 1.36363636, 1.33333333]])"
      ]
     },
     "execution_count": 18,
     "metadata": {},
     "output_type": "execute_result"
    }
   ],
   "source": [
    "a / c "
   ]
  },
  {
   "cell_type": "markdown",
   "metadata": {},
   "source": [
    "### **3. Seleziona il numero più vicino a 0.5 in un array casuale**\n",
    "Genera un array 10 x 3 con numeri casuali nell'intervallo [0,1].\n",
    "Per ogni riga, seleziona il numero più vicino a 0.5. Per farlo usa il fancy indexing."
   ]
  },
  {
   "cell_type": "code",
   "execution_count": 104,
   "metadata": {},
   "outputs": [
    {
     "data": {
      "text/plain": [
       "array([[0.80996191, 0.2439503 , 0.61540561],\n",
       "       [0.08197235, 0.91923723, 0.10618794],\n",
       "       [0.74891046, 0.64550598, 0.62874472],\n",
       "       [0.02334996, 0.9812276 , 0.35734763],\n",
       "       [0.16497339, 0.28197002, 0.34511716],\n",
       "       [0.19036028, 0.39189049, 0.43812249],\n",
       "       [0.24492124, 0.88542484, 0.38210216],\n",
       "       [0.57177699, 0.99886779, 0.72816071],\n",
       "       [0.55266283, 0.12695508, 0.35555796],\n",
       "       [0.83742516, 0.33274647, 0.14980868]])"
      ]
     },
     "execution_count": 104,
     "metadata": {},
     "output_type": "execute_result"
    }
   ],
   "source": [
    "arr = np.random.rand(10,3)\n",
    "arr"
   ]
  },
  {
   "cell_type": "code",
   "execution_count": 105,
   "metadata": {},
   "outputs": [
    {
     "data": {
      "text/plain": [
       "array([0.61540561, 0.10618794, 0.62874472, 0.35734763, 0.34511716,\n",
       "       0.43812249, 0.38210216, 0.57177699, 0.55266283, 0.33274647])"
      ]
     },
     "execution_count": 105,
     "metadata": {},
     "output_type": "execute_result"
    }
   ],
   "source": [
    "\n",
    "x = 0.5\n",
    "dist = np.abs(arr - x)\n",
    "indice = np.argmin(dist, axis=1 )\n",
    "row = list(range(10))\n",
    "arr[row,indice]\n"
   ]
  },
  {
   "cell_type": "markdown",
   "metadata": {},
   "source": [
    "### **4. Analisi della Frequenza Cardiaca con NumPy**\n",
    "\n",
    "1. **Supponiamo che i seguenti valori rappresentino la tua frequenza cardiaca** registrata dal tuo Fitbit durante la giornata:  \n",
    "   `68, 65, 77, 110, 160, 161, 162, 161, 160, 161, 162, 163, 164, 163, 162, 100, 90, 97, 72, 60, 70`  \n",
    "   Inserisci questi valori in un array NumPy.\n",
    "\n",
    "2. **Trova la frequenza cardiaca minima** registrata durante la giornata.  \n",
    "   _(Questo valore rappresenta approssimativamente la tua frequenza cardiaca a riposo, un comune indicatore di salute.)_\n",
    "\n",
    "3. **Trova la frequenza cardiaca massima** registrata durante la giornata.  \n",
    "   _(Questo valore è un'indicazione dell'intensità dell'esercizio fisico.)_\n",
    "\n",
    "4. **Calcoliamo la percentuale di letture effettuate mentre stavi facendo esercizio fisico (frequenza cardiaca sopra a 120)**:  \n",
    "   - Crea un nuovo array che contiene `True` quando la frequenza cardiaca è **superiore a 120**, e `False` quando è **inferiore o uguale a 120**.\n",
    "   - Utilizza una funzione di sintesi per calcolare la percentuale di osservazioni in cui la tua frequenza cardiaca era sopra 120.\n"
   ]
  },
  {
   "cell_type": "code",
   "execution_count": 107,
   "metadata": {},
   "outputs": [
    {
     "data": {
      "text/plain": [
       "array([ 68,  65,  77, 110, 160, 161, 162, 161, 160, 161, 162, 163, 164,\n",
       "       163, 162, 100,  90,  97,  72,  60,  70])"
      ]
     },
     "execution_count": 107,
     "metadata": {},
     "output_type": "execute_result"
    }
   ],
   "source": [
    "#1-\n",
    "array = np.array([68, 65, 77, 110, 160, 161, 162, 161, 160, 161, 162, 163, 164, 163, 162, 100, 90, 97, 72, 60, 70])\n",
    "array\n"
   ]
  },
  {
   "cell_type": "code",
   "execution_count": 110,
   "metadata": {},
   "outputs": [
    {
     "name": "stdout",
     "output_type": "stream",
     "text": [
      "la frequenza minima è: 60\n"
     ]
    }
   ],
   "source": [
    "\n",
    "#2-\n",
    "fre_min = np.min(array)\n",
    "print(\"la frequenza minima è:\",fre_min.item())\n",
    "#array[array.argmin()].item()\n"
   ]
  },
  {
   "cell_type": "code",
   "execution_count": 111,
   "metadata": {},
   "outputs": [
    {
     "name": "stdout",
     "output_type": "stream",
     "text": [
      "la frequenza massima è: 164\n"
     ]
    }
   ],
   "source": [
    "\n",
    "#3-\n",
    "\n",
    "fre_max = np.max(array)\n",
    "print(\"la frequenza massima è:\",fre_max.item())\n",
    "#array[array.argmax()].item()\n"
   ]
  },
  {
   "cell_type": "code",
   "execution_count": 112,
   "metadata": {},
   "outputs": [
    {
     "data": {
      "text/plain": [
       "array([False, False, False, False,  True,  True,  True,  True,  True,\n",
       "        True,  True,  True,  True,  True,  True, False, False, False,\n",
       "       False, False, False])"
      ]
     },
     "execution_count": 112,
     "metadata": {},
     "output_type": "execute_result"
    }
   ],
   "source": [
    "\n",
    "#4-\n",
    "    #a-\n",
    "array_2 = array > 120\n",
    "array_2\n"
   ]
  },
  {
   "cell_type": "code",
   "execution_count": 115,
   "metadata": {},
   "outputs": [
    {
     "name": "stdout",
     "output_type": "stream",
     "text": [
      "il percentuale è : 0.43 %\n"
     ]
    }
   ],
   "source": [
    "\n",
    "    #b-\n",
    "percentuale = np.sum(array_2) / np.sum(array)\n",
    "percentuale.item() *100\n",
    "print(\"il percentuale è : {} %\".format(round(percentuale.item() *100, 2)) )\n"
   ]
  },
  {
   "cell_type": "markdown",
   "metadata": {},
   "source": [
    "### **5. Manipolazione di vettori**\n",
    "\n",
    "1. Creare un vettore contenente i seguenti stipendi: **50.000, 105.250, 55.000, 89.000**.  \n",
    "Qual è il costo totale del personale (somma di tutti gli stipendi dell'azienda)?\n",
    "\n",
    "2. Supponiamo che il nostro malvagio CEO abbia deciso di darsi un aumento.  \n",
    "Modifica il vettore degli stipendi in modo che il CEO, la persona che guadagna **105.250 dollari**, riceva un aumento del **15%**.\n",
    "\n",
    "3. Il **115%** di **105.250 dollari** è **121.037,50 dollari**.  \n",
    "Questo valore è presente nel tuo array? Se no, riesci a capire il motivo?\n",
    "\n",
    "4. Ricrea il vettore e utilizza l'argomento **`dtype`** in modo che, quando il CEO riceve un aumento del **15%**, il suo stipendio finale sia esattamente **121.037,50 dollari**.\n",
    "\n",
    "5. Questo aumento ha infastidito l'impiegata con lo stipendio più basso (**50.000 dollari**), che ora pretende un aumento del **20%**.  \n",
    "Modifica il vettore per riflettere questo cambiamento.\n",
    "\n",
    "6. L'aumento dato al CEO e all'impiegata ha irritato gli altri due dipendenti, quindi ora devono ricevere un aumento del **10%**.  \n",
    "Modifica il vettore di conseguenza.\n",
    "\n",
    "7. Calcola il **costo totale del personale** dopo tutti gli aumenti.  \n",
    "Alla fine, quanto è costato all'azienda l'aumento di circa **16.000 dollari** del CEO?\n"
   ]
  },
  {
   "cell_type": "code",
   "execution_count": 117,
   "metadata": {},
   "outputs": [
    {
     "data": {
      "text/plain": [
       "299250"
      ]
     },
     "execution_count": 117,
     "metadata": {},
     "output_type": "execute_result"
    }
   ],
   "source": [
    "#1-\n",
    "vettore = np.array( [50000, 105250, 55000, 89000])\n",
    "cost_tot = np.sum(vettore).item()\n",
    "cost_tot"
   ]
  },
  {
   "cell_type": "code",
   "execution_count": 118,
   "metadata": {},
   "outputs": [
    {
     "data": {
      "text/plain": [
       "array([ 50000, 121037,  55000,  89000])"
      ]
     },
     "execution_count": 118,
     "metadata": {},
     "output_type": "execute_result"
    }
   ],
   "source": [
    "\n",
    "#2-\n",
    "vettore[vettore== 105250 ]  = vettore[vettore== 105250 ] + (vettore[vettore== 105250 ] * 15) / 100\n",
    "vettore\n"
   ]
  },
  {
   "cell_type": "code",
   "execution_count": 119,
   "metadata": {},
   "outputs": [
    {
     "name": "stdout",
     "output_type": "stream",
     "text": [
      "Si, capisco, perché gli elementi dell'array di base erano del tipo 'int'\n"
     ]
    }
   ],
   "source": [
    "\n",
    "#3- \n",
    "print(\"Si, capisco, perché gli elementi dell'array di base erano del tipo 'int'\")\n"
   ]
  },
  {
   "cell_type": "code",
   "execution_count": 120,
   "metadata": {},
   "outputs": [
    {
     "data": {
      "text/plain": [
       "(array([ 50000. , 121037.5,  55000. ,  89000. ]), dtype('float64'))"
      ]
     },
     "execution_count": 120,
     "metadata": {},
     "output_type": "execute_result"
    }
   ],
   "source": [
    "\n",
    "#4-\n",
    "vettore_flot = np.array( [50000.0, 105250, 55000, 89000])\n",
    "vettore_flot[vettore_flot == 105250 ]  = vettore_flot [vettore_flot == 105250 ] + (vettore_flot [vettore_flot == 105250 ] * 15) / 100\n",
    "vettore_flot, vettore_flot.dtype\n"
   ]
  },
  {
   "cell_type": "code",
   "execution_count": 121,
   "metadata": {},
   "outputs": [
    {
     "data": {
      "text/plain": [
       "array([ 60000. , 121037.5,  55000. ,  89000. ])"
      ]
     },
     "execution_count": 121,
     "metadata": {},
     "output_type": "execute_result"
    }
   ],
   "source": [
    "\n",
    "#5-\n",
    "vettore_flot[vettore_flot == 50000.0] = vettore_flot[vettore_flot == 50000.0] + (vettore_flot[vettore_flot == 50000.0]*20) / 100\n",
    "vettore_flot\n",
    "\n"
   ]
  },
  {
   "cell_type": "code",
   "execution_count": 122,
   "metadata": {},
   "outputs": [
    {
     "data": {
      "text/plain": [
       "array([ 60000. , 121037.5,  60500. ,  97900. ])"
      ]
     },
     "execution_count": 122,
     "metadata": {},
     "output_type": "execute_result"
    }
   ],
   "source": [
    "\n",
    "#6-\n",
    "vettore_flot[vettore_flot == 55000.0] = vettore_flot[vettore_flot == 55000.0] + (vettore_flot[vettore_flot == 55000.0]*10) /100\n",
    "vettore_flot[vettore_flot == 89000.0] = vettore_flot[vettore_flot == 89000.0] + (vettore_flot[vettore_flot == 89000.0]*10) /100\n",
    "vettore_flot\n"
   ]
  },
  {
   "cell_type": "code",
   "execution_count": 123,
   "metadata": {},
   "outputs": [
    {
     "data": {
      "text/plain": [
       "40187.5"
      ]
     },
     "execution_count": 123,
     "metadata": {},
     "output_type": "execute_result"
    }
   ],
   "source": [
    "\n",
    "#7-\n",
    "aumento = np.sum(vettore_flot)\n",
    "\n",
    "spese_totali = aumento - cost_tot\n",
    "spese_totali.item()\n",
    "\n",
    "\n"
   ]
  },
  {
   "cell_type": "markdown",
   "metadata": {},
   "source": [
    "### **6. Valori di Co2**\n",
    "\n",
    "1. Carica tramite numpy il file generato e salvato a lezione sulle emissioni di CO2\n",
    "\n",
    "2. Calcola quanti valori ci CO2 sono sopra la soglia di 18  tonnellate per anno ed il loro valore medio\n",
    "\n",
    "3. Calcola la frazione totale di emissione sopra la soglia (somma totale sopra la soglia/somma totale)"
   ]
  },
  {
   "cell_type": "code",
   "execution_count": 128,
   "metadata": {},
   "outputs": [
    {
     "data": {
      "text/plain": [
       "'C:\\\\Users\\\\delma\\\\OneDrive\\\\Bureau\\\\my_project_pytho_II\\\\co2.txt'"
      ]
     },
     "execution_count": 128,
     "metadata": {},
     "output_type": "execute_result"
    }
   ],
   "source": [
    "#1-\n",
    "## Generazione di 200 valori casuali di emissioni di CO2 in tonnellate per anno \n",
    "## Supponiamo emissioni tra 4 e 20 tonnellate per persona \n",
    "np.random.seed(123)\n",
    "co2_emissions = np.round(np.random.uniform(4, 20, 200), 2)\n",
    "\n",
    "## Nome del file di output\n",
    "output_file = \"C:\\\\Users\\\\delma\\\\OneDrive\\\\Bureau\\\\my_project_pytho_II\\\\co2.txt\"\n",
    "\n",
    "## Salvataggio su file\n",
    "np.savetxt(output_file, co2_emissions, fmt=\"%.2f\")\n",
    "\n",
    "## Restituisco il percorso del file\n",
    "output_file\n"
   ]
  },
  {
   "cell_type": "code",
   "execution_count": 129,
   "metadata": {},
   "outputs": [
    {
     "name": "stdout",
     "output_type": "stream",
     "text": [
      "ci sono 18 valori e la loro media è 18.963\n"
     ]
    }
   ],
   "source": [
    "\n",
    "#2-\n",
    "df = np.loadtxt(output_file)\n",
    "df\n",
    "sopra_ton = df[df > 18 ]\n",
    "lenght = len(sopra_ton)\n",
    "media = round(np.mean(sopra_ton).item(), 3)\n",
    "lenght, media\n",
    "print(\"ci sono {} valori e la loro media è {}\".format(lenght, media))"
   ]
  },
  {
   "cell_type": "code",
   "execution_count": 133,
   "metadata": {},
   "outputs": [
    {
     "name": "stdout",
     "output_type": "stream",
     "text": [
      "la frazione totale di emissione sopra la soglia è: 0.142\n"
     ]
    }
   ],
   "source": [
    "\n",
    "#3-\n",
    "som_soglia = round(np.sum(df[df > 18]).item(), 4)\n",
    "som_soglia\n",
    "sum_tot = np.sum(df)\n",
    "sum_tot.item()\n",
    "result = som_soglia / sum_tot\n",
    "print(\"la frazione totale di emissione sopra la soglia è: {}\".format(round(result,3)))"
   ]
  },
  {
   "cell_type": "markdown",
   "metadata": {},
   "source": [
    "### **7. Analisi di una matrice**\n",
    "Data la matrice survey con età, reddito e anni di istruzione\n",
    "\n",
    "survey_matrix = np.array([\n",
    "    [25, 40000, 10],\n",
    "    [32, 52000, 12],\n",
    "    [40, 63000, 14],\n",
    "    [29, 47000, 11],\n",
    "    [35, 58000, 13]\n",
    "])\n",
    "\n",
    "\n",
    "1. Seleziona dalla matrice solo gli intervistati con **almeno 12 anni di istruzione** utilizzando un test logico.\n",
    "\n",
    "2. In un'unica riga di codice, seleziona i **redditi** degli intervistati con **almeno 12 anni di istruzione**.\n",
    "\n",
    "3. In un'unica riga di codice, calcola il **reddito medio** degli intervistati con **almeno 12 anni di istruzione**.\n"
   ]
  },
  {
   "cell_type": "code",
   "execution_count": 143,
   "metadata": {},
   "outputs": [
    {
     "data": {
      "text/plain": [
       "array([[   32, 52000,    12],\n",
       "       [   40, 63000,    14],\n",
       "       [   35, 58000,    13]])"
      ]
     },
     "execution_count": 143,
     "metadata": {},
     "output_type": "execute_result"
    }
   ],
   "source": [
    "# %%timeit\n",
    "survey_matrix = np.array([\n",
    "    [25, 40000, 10],\n",
    "    [32, 52000, 12],\n",
    "    [40, 63000, 14],\n",
    "    [29, 47000, 11],\n",
    "    [35, 58000, 13]\n",
    "])\n",
    "\n",
    "#1-\n",
    "survey_matrix.ndim\n",
    "select = survey_matrix[survey_matrix[:,2 ] >= 12]\n",
    "select\n"
   ]
  },
  {
   "cell_type": "markdown",
   "metadata": {},
   "source": []
  },
  {
   "cell_type": "code",
   "execution_count": 141,
   "metadata": {},
   "outputs": [
    {
     "data": {
      "text/plain": [
       "[52000, 63000, 58000]"
      ]
     },
     "execution_count": 141,
     "metadata": {},
     "output_type": "execute_result"
    }
   ],
   "source": [
    "\n",
    "#2-\n",
    "red = [i.item() for i in select[:,1] if i ]\n",
    "red\n"
   ]
  },
  {
   "cell_type": "code",
   "execution_count": 144,
   "metadata": {},
   "outputs": [
    {
     "name": "stdout",
     "output_type": "stream",
     "text": [
      "la media è: 57666.667\n"
     ]
    }
   ],
   "source": [
    "\n",
    "#3-\n",
    "media = round(np.mean(select[:,1]).item(), 3)\n",
    "print(\"la media è:\", media)\n"
   ]
  },
  {
   "cell_type": "markdown",
   "metadata": {},
   "source": [
    "### **8. Rimpiazzare gli outliers**\n",
    "\n",
    "Vediamo se possiamo ripulire alcuni dati mancanti. Immagina di essere il responsabile dei registri di un comune locale con **500 cittadini** di **55 anni e oltre**.  \n",
    "\n",
    "La città è famosa per la sua longevità e un team di ricercatori ti ha chiesto di identificare **il cittadino più anziano**.  \n",
    "\n",
    "Il problema è che, occasionalmente, nei registri si verificano errori e in quei casi viene inserita l'età **999** invece dell'età corretta.  \n",
    "\n",
    "Rimuovi i dati errati dall'array e determina l'età del cittadino più anziano.\n"
   ]
  },
  {
   "cell_type": "code",
   "execution_count": 154,
   "metadata": {},
   "outputs": [
    {
     "data": {
      "text/plain": [
       "array([ 92, 108,  75,  63,  62,  66,  90,  98,  97,  92,  60, 107,  90,\n",
       "        71,  97,  86,  55,  55,  98,  57,  96, 104,  96,  94,  72,  98,\n",
       "       111,  98,  89,  69,  77,  92,  85, 101,  93, 100,  90, 101,  96,\n",
       "        98,  83,  87, 106,  86, 108,  55,  67,  65,  68,  59,  67,  72,\n",
       "        57,  79,  95,  67,  86,  70,  91, 111,  67,  75,  59,  88,  90,\n",
       "        99,  94,  65, 111, 103, 100,  70,  63,  65, 100, 110,  83,  70,\n",
       "        57,  75,  56, 104, 111,  90,  74, 100,  90,  86,  88,  99,  58,\n",
       "       103,  88, 103,  64,  96, 105,  89,  83,  65, 100,  62,  73, 105,\n",
       "        83, 105,  58,  96,  77,  74,  95, 109,  91, 101,  91,  83,  63,\n",
       "       111,  97, 108,  75,  77,  73,  58,  94,  83,  90,  61, 110, 107,\n",
       "       105,  85,  64,  66,  71, 107, 105,  72,  78,  66, 100, 102,  72,\n",
       "        83,  74,  68,  73,  72,  90,  93,  99,  55,  92,  83,  58,  71,\n",
       "        89,  75,  98,  87,  83,  78,  97,  71, 106,  83,  58,  81, 100,\n",
       "        72,  93,  70,  65,  60,  95, 107,  94,  77,  87,  90,  82,  56,\n",
       "        99, 107,  86,  56,  73,  96,  64,  69,  64,  92,  57, 104, 110,\n",
       "        69,  66,  68,  84,  89,  72,  80,  55,  75,  87,  57, 106,  69,\n",
       "        66,  62, 102,  76, 111,  83,  96,  83,  84,  61, 102,  63, 107,\n",
       "        63,  76,  58,  83,  58,  61,  71,  77,  90,  74, 100, 103,  74,\n",
       "        92, 102,  63,  87,  93,  61,  63,  86,  74,  98,  64,  83,  78,\n",
       "        95,  84,  81, 107,  85,  79,  82,  89,  65, 107,  57,  74,  77,\n",
       "        97,  92,  58,  96, 105,  60,  55,  74,  57,  80,  62,  85,  87,\n",
       "        62,  83,  71,  74,  70,  97,  59,  82,  96, 105,  70,  89, 105,\n",
       "        60,  70,  87,  83,  64, 108, 107, 104,  85,  95, 108,  74,  64,\n",
       "        97,  89,  88,  79,  67,  81,  92,  63,  80,  76,  94, 104,  67,\n",
       "        73,  61,  99,  96,  68,  90,  86,  79,  85, 111,  75,  98,  81,\n",
       "       111, 108, 103,  85,  72, 108, 102,  83,  64, 107, 112,  66,  93,\n",
       "        89,  78,  66,  92,  63, 101,  92,  64,  72,  56,  71,  64,  87,\n",
       "        78, 107,  85, 109,  95,  69, 111,  64,  72,  55,  66,  99,  57,\n",
       "        78,  55,  58,  90,  88,  71,  90, 103,  92,  98,  67,  97,  77,\n",
       "        68,  77,  59,  78,  69,  77,  81,  61,  99,  83,  85,  78, 104,\n",
       "        97,  95,  74,  70,  69,  83,  68,  68,  77,  60,  85,  82,  93,\n",
       "        66,  71,  62,  64, 107,  83,  65,  78,  59,  83,  67, 108,  58,\n",
       "        95, 106,  83,  79,  67,  59,  96,  90,  55,  55,  96, 109,  82,\n",
       "        55, 101,  58,  97,  77,  60,  81,  83,  81,  75, 100,  66,  65,\n",
       "       105,  94, 101,  56,  83,  59, 105,  59,  93,  56, 104,  74,  81,\n",
       "        62,  76,  65, 107,  60, 107,  98,  77,  86,  83, 104,  74,  69,\n",
       "        97,  80,  91,  56, 108,  87,  65,  91,  93,  60,  91, 110, 107,\n",
       "        88,  96,  70,  60,  99,  66,  91, 107,  65,  81, 109,  84, 106,\n",
       "        80,  92,  78,  84,  91,  59])"
      ]
     },
     "execution_count": 154,
     "metadata": {},
     "output_type": "execute_result"
    }
   ],
   "source": [
    "import numpy as np\n",
    "import matplotlib.pylab as plt\n",
    "ages = np.array([92, 108, 75, 63, 62, 66, 90, 98, 97, 92, 60, 107, 90, 71, 97, 86, 55, 55,\n",
    "                 98, 57, 96, 104, 96, 94, 72, 98, 111, 98, 89, 69, 77, 92, 85, 101, 93, 100,\n",
    "                 90, 101, 96, 98, 999, 87, 106, 86, 108, 55, 67, 65, 68, 59, 67, 72, 57, 79,\n",
    "                 95, 67, 86, 70, 91, 111, 67, 75, 59, 88, 90, 99, 94, 65, 111, 103, 100, 70,\n",
    "                 63, 65, 100, 110, 999, 70, 57, 75, 56, 104, 111, 90, 74, 100, 90, 86, 88, 99,\n",
    "                 58, 103, 88, 103, 64, 96, 105, 89, 83, 65, 100, 62, 73, 105, 83, 105, 58, 96,\n",
    "                 77, 74, 95, 109, 91, 101, 91, 999, 63, 111, 97, 108, 75, 77, 73, 58, 94, 83,\n",
    "                 90, 61, 110, 107, 105, 85, 64, 66, 71, 107, 105, 72, 78, 66, 100, 102, 72, 999,\n",
    "                 74, 68, 73, 72, 90, 93, 99, 55, 92, 83, 58, 71, 89, 75, 98, 87, 999, 78,\n",
    "                 97, 71, 106, 83, 58, 81, 100, 72, 93, 70, 65, 60, 95, 107, 94, 77, 87, 90,\n",
    "                 82, 56, 99, 107, 86, 56, 73, 96, 64, 69, 64, 92, 57, 104, 110, 69, 66, 68,\n",
    "                 84, 89, 72, 80, 55, 75, 87, 57, 106, 69, 66, 62, 102, 76, 111, 999, 96, 83,\n",
    "                 84, 61, 102, 63, 107, 63, 76, 58, 83, 58, 61, 71, 77, 90, 74, 100, 103, 74,\n",
    "                 92, 102, 63, 87, 93, 61, 63, 86, 74, 98, 64, 999, 78, 95, 84, 81, 107, 85,\n",
    "                 79, 82, 89, 65, 107, 57, 74, 77, 97, 92, 58, 96, 105, 60, 55, 74, 57, 80,\n",
    "                 62, 85, 87, 62, 999, 71, 74, 70, 97, 59, 82, 96, 105, 70, 89, 105, 60, 70,\n",
    "                 87, 999, 64, 108, 107, 104, 85, 95, 108, 74, 64, 97, 89, 88, 79, 67, 81, 92,\n",
    "                 63, 80, 76, 94, 104, 67, 73, 61, 99, 96, 68, 90, 86, 79, 85, 111, 75, 98,\n",
    "                 81, 111, 108, 103, 85, 72, 108, 102, 999, 64, 107, 112, 66, 93, 89, 78, 66, 92,\n",
    "                 63, 101, 92, 64, 72, 56, 71, 64, 87, 78, 107, 85, 109, 95, 69, 111, 64, 72,\n",
    "                 55, 66, 99, 57, 78, 55, 58, 90, 88, 71, 90, 103, 92, 98, 67, 97, 77, 68,\n",
    "                 77, 59, 78, 69, 77, 81, 61, 99, 999, 85, 78, 104, 97, 95, 74, 70, 69, 83,\n",
    "                 68, 68, 77, 60, 85, 82, 93, 66, 71, 62, 64, 107, 999, 65, 78, 59, 83, 67,\n",
    "                 108,  58,  95, 106,  83,  79,  67,  59,  96,  90,  55,  55,  96, 109,  82,  55, 101,  58,\n",
    "                 97, 77, 60, 81, 999, 81, 75, 100, 66, 65, 105, 94, 101, 56, 999, 59, 105, 59,\n",
    "                 93, 56, 104, 74, 81, 62, 76, 65, 107, 60, 107, 98, 77, 86, 83, 104, 74, 69,\n",
    "                 97, 80, 91, 56, 108, 87, 65, 91, 93, 60, 91, 110, 107, 88, 96, 70, 60, 99,\n",
    "                 66, 91, 107, 65, 81, 109, 84, 106, 80, 92, 78, 84, 91, 59])\n",
    "\n",
    "#plt.boxplot(ages)\n",
    "#plt.title(\"Détection des outliers\")\n",
    "#plt.show()\n",
    "IQR = np.percentile(ages, 75)  -  np.percentile(ages, 25)\n",
    "IQR.item()\n",
    "born_inf =  np.percentile(ages, 25) - 1.5*IQR\n",
    "born_sup =  np.percentile(ages, 75) + 1.5*IQR\n",
    "# born_inf.item(), born_sup.item()\n",
    "# outliers = ages[(ages < born_inf) | (ages > born_sup)]\n",
    "# outliers = np.median(ages)\n",
    "# outliers\n",
    "ages[ages > born_sup] = np.median(ages)\n",
    "ages[ages < born_inf] = np.median(ages)\n",
    "ages\n",
    "\n",
    "\n"
   ]
  },
  {
   "cell_type": "code",
   "execution_count": 153,
   "metadata": {},
   "outputs": [
    {
     "name": "stdout",
     "output_type": "stream",
     "text": [
      "il piu anziano ha 112 anni:\n"
     ]
    }
   ],
   "source": [
    "anciano = np.max(ages).item()\n",
    "print(\"il piu anziano ha {} anni:\".format(anciano ))"
   ]
  },
  {
   "cell_type": "markdown",
   "metadata": {},
   "source": [
    "### 9.**Generazione random di storie**\n",
    "\n",
    "Usando la lista qui sotto, estrai casualmente **5 parole con reinserimento** (cioè, i duplicati sono ammessi).  \n",
    "\n",
    "Successivamente, inserisci casualmente queste parole negli spazi vuoti (indicati con \"_\") nella seguente frase:\n",
    "\n",
    "*\"In epoche passate, viveva una donna saggia che era molto orgogliosa dell'antico APPLICAZIONE che proteggeva. Quando un anziano del villaggio venne a chiederle consiglio su come garantire al meglio un raccolto abbondante e le offrì il FILOSOFIA come dono, i suoi occhi si spalancarono e lei esclamò una sola parola, \"VERDURA\".  \n",
    "Radunò il villaggio e, per i successivi 100 giorni, su sua richiesta, gli abitanti cercarono nella foresta un SERBATOIO.  \n",
    "Nel 101° giorno, il bambino più giovane del villaggio trovò ciò che stavano cercando e tutti corsero dalla donna saggia per donarglielo.  \n",
    "Con un sorriso da un orecchio all’altro, e cantando canti di festa, la donna saggia guardò i suoi compaesani e disse: \"Ora è giunto il tempo del banchetto - nessuno rimarrà mai più senza IMPERO!\" Ci fu grande gioia e celebrazione.\"*\n"
   ]
  },
  {
   "cell_type": "code",
   "execution_count": 202,
   "metadata": {},
   "outputs": [
    {
     "data": {
      "text/plain": [
       "['APPLICAZIONE', 'FILOSOFIA', 'VERDURA', 'SERBATOIO', 'IMPERO']"
      ]
     },
     "execution_count": 202,
     "metadata": {},
     "output_type": "execute_result"
    }
   ],
   "source": [
    "import random\n",
    "random.seed(123)\n",
    "lista_parole = [\n",
    "    'INSEDIAMENTO', 'SEPARAZIONE', 'DIFFERENZA', 'APPLICAZIONE', 'ATTEGGIAMENTO', 'VERDURA', 'IMPERO', 'RICEVIMENTO',\n",
    "    'IGNORANZA', 'BIOGRAFIA', 'VISIONE', 'AGENTE DI POLIZIA', 'PROVA', 'PRESTAZIONE', 'PRESENTAZIONE', 'PARENTE',\n",
    "    'GIUSTIFICAZIONE', 'FILOSOFIA', 'DIREZIONE', 'BENEFICIARIO', 'BATTERIA', 'CERIMONIA', 'AGONIA', 'RECUPERO',\n",
    "    'ALFABETIZZAZIONE', 'CONSEGNA', 'SERBATOIO', 'VOLONTARIO', 'DEPOSITO', 'BIRILLO DA BOWLING', 'NEMICO', 'ANNUNCIO',\n",
    "    'CARAMELLA ZUCCHERATA', 'FULMINE', 'PALLONCINO', 'COPERTA', 'SCOPERTA', 'PENALITÀ', 'GENERALE', 'ALPACA',\n",
    "    'VANTAGGIO', 'HOT DOG', 'ABITO', 'MATEMATICA', 'VARIANTE'\n",
    "]\n",
    "random.sample(lista_parole, 5)\n"
   ]
  },
  {
   "cell_type": "code",
   "execution_count": null,
   "metadata": {},
   "outputs": [],
   "source": []
  },
  {
   "cell_type": "markdown",
   "metadata": {},
   "source": [
    "Esempio di output\n",
    "\n",
    "\n",
    "\"In epoche passate, viveva una donna saggia che era molto orgogliosa dell'antico APPLICAZIONE che proteggeva. \n",
    "Quando un anziano del villaggio venne a chiederle consiglio su come garantire al meglio un raccolto abbondante \n",
    "e le offrì il DEPOSITO come dono, i suoi occhi si spalancarono e lei esclamò una sola parola, \"PRESTAZIONE\".  \n",
    "\n",
    "Radunò il villaggio e, per i successivi 100 giorni, su sua richiesta, gli abitanti cercarono nella foresta un BIRILLO DA BOWLING. \n",
    "Nel 101° giorno, il bambino più giovane del villaggio trovò ciò che stavano cercando e tutti corsero dalla donna saggia per donarglielo. \n",
    "Con un sorriso da un orecchio all’altro, e cantando canti di festa, la donna saggia guardò i suoi compaesani e disse: \n",
    "\"Ora è giunto il tempo del banchetto - nessuno rimarrà mai più senza GIUSTIFICAZIONE!\"  \n",
    "\n",
    "Ci fu grande gioia e celebrazione.\""
   ]
  }
 ],
 "metadata": {
  "kernelspec": {
   "display_name": "Python 3",
   "language": "python",
   "name": "python3"
  },
  "language_info": {
   "codemirror_mode": {
    "name": "ipython",
    "version": 3
   },
   "file_extension": ".py",
   "mimetype": "text/x-python",
   "name": "python",
   "nbconvert_exporter": "python",
   "pygments_lexer": "ipython3",
   "version": "3.13.0rc2"
  }
 },
 "nbformat": 4,
 "nbformat_minor": 2
}
